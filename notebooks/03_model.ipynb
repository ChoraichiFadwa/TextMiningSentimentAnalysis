{
  "cells": [
    {
      "cell_type": "code",
      "execution_count": 1,
      "metadata": {
        "colab": {
          "base_uri": "https://localhost:8080/"
        },
        "id": "yRauZg-QpoYq",
        "outputId": "5b37a89e-bf65-4d40-af47-05c853b9381e"
      },
      "outputs": [
        {
          "output_type": "stream",
          "name": "stdout",
          "text": [
            "Mounted at /content/drive\n"
          ]
        }
      ],
      "source": [
        "from google.colab import drive\n",
        "drive.mount('/content/drive')\n",
        "# import os\n",
        "# os.makedirs('/content/drive/MyDrive/sentiment_project', exist_ok=True)"
      ]
    },
    {
      "cell_type": "code",
      "source": [
        "import pandas as pd\n",
        "from sklearn.model_selection import train_test_split\n",
        "from sklearn.feature_extraction.text import TfidfVectorizer\n",
        "from sklearn.linear_model import LogisticRegression\n",
        "from sklearn.naive_bayes import MultinomialNB\n",
        "from sklearn.svm import LinearSVC\n",
        "from sklearn.metrics import classification_report, accuracy_score, confusion_matrix, f1_score, make_scorer\n",
        "import seaborn as sns\n",
        "import matplotlib.pyplot as plt\n",
        "from sklearn.decomposition import TruncatedSVD\n",
        "from sklearn.svm import LinearSVC\n",
        "from sklearn.metrics import accuracy_score, f1_score, classification_report\n",
        "from sklearn.model_selection import cross_val_score, StratifiedKFold\n",
        "import time\n",
        "from sklearn.pipeline import Pipeline\n",
        "from sklearn.feature_selection import SelectKBest, chi2\n",
        "from sklearn.model_selection import GridSearchCV"
      ],
      "metadata": {
        "id": "YvpmwHe4JA-l"
      },
      "execution_count": 4,
      "outputs": []
    },
    {
      "cell_type": "code",
      "source": [
        "df = pd.read_csv('/content/drive/MyDrive/sentiment_project/processed_reviews_100k.csv')"
      ],
      "metadata": {
        "id": "niimtChEJBFa"
      },
      "execution_count": 5,
      "outputs": []
    },
    {
      "cell_type": "code",
      "source": [
        "df.info()\n",
        "df.describe()\n",
        "df.shape\n",
        "df.head()"
      ],
      "metadata": {
        "id": "YCSwfdM830rE",
        "outputId": "d31ed72c-c048-44ac-8058-ba416f3c2f2f",
        "colab": {
          "base_uri": "https://localhost:8080/",
          "height": 553
        },
        "collapsed": true
      },
      "execution_count": null,
      "outputs": [
        {
          "output_type": "stream",
          "name": "stdout",
          "text": [
            "<class 'pandas.core.frame.DataFrame'>\n",
            "RangeIndex: 49962 entries, 0 to 49961\n",
            "Data columns (total 9 columns):\n",
            " #   Column             Non-Null Count  Dtype  \n",
            "---  ------             --------------  -----  \n",
            " 0   rating             49962 non-null  float64\n",
            " 1   title              49962 non-null  object \n",
            " 2   text               49962 non-null  object \n",
            " 3   timestamp          49962 non-null  int64  \n",
            " 4   helpful_vote       49962 non-null  int64  \n",
            " 5   verified_purchase  49962 non-null  int64  \n",
            " 6   label              49962 non-null  object \n",
            " 7   full_text          49962 non-null  object \n",
            " 8   sentiment          49962 non-null  object \n",
            "dtypes: float64(1), int64(3), object(5)\n",
            "memory usage: 3.4+ MB\n"
          ]
        },
        {
          "output_type": "execute_result",
          "data": {
            "text/plain": [
              "   rating                                     title  \\\n",
              "0     1.0                                   malware   \n",
              "1     5.0                               Lots of Fun   \n",
              "2     5.0                         Light Up The Dark   \n",
              "3     4.0                                  Fun game   \n",
              "4     4.0  I am not that good at it but my kids are   \n",
              "\n",
              "                                                text      timestamp  \\\n",
              "0                                 mcaffee IS malware  1562182632076   \n",
              "1  I love playing tapped out because it is fun to...  1424120336000   \n",
              "2  I love this flashlight app!  It really illumin...  1362399267000   \n",
              "3                           One of my favorite games  1561061428662   \n",
              "4  Cute game. I am not that good at it but my kid...  1418257196000   \n",
              "\n",
              "   helpful_vote  verified_purchase     label  \\\n",
              "0             0                  0  negative   \n",
              "1             0                  1  positive   \n",
              "2             0                  1  positive   \n",
              "3             0                  1  positive   \n",
              "4             0                  1  positive   \n",
              "\n",
              "                                           full_text sentiment  \n",
              "0                         malware mcaffee is malware  negative  \n",
              "1  lots of fun i love playing tapped out because ...  positive  \n",
              "2  light up the dark i love this flashlight app i...  positive  \n",
              "3                  fun game one of my favorite games  positive  \n",
              "4  i am not that good at it but my kids are cute ...  positive  "
            ],
            "text/html": [
              "\n",
              "  <div id=\"df-4e9b29f2-ee65-4157-8447-059abe95aa4c\" class=\"colab-df-container\">\n",
              "    <div>\n",
              "<style scoped>\n",
              "    .dataframe tbody tr th:only-of-type {\n",
              "        vertical-align: middle;\n",
              "    }\n",
              "\n",
              "    .dataframe tbody tr th {\n",
              "        vertical-align: top;\n",
              "    }\n",
              "\n",
              "    .dataframe thead th {\n",
              "        text-align: right;\n",
              "    }\n",
              "</style>\n",
              "<table border=\"1\" class=\"dataframe\">\n",
              "  <thead>\n",
              "    <tr style=\"text-align: right;\">\n",
              "      <th></th>\n",
              "      <th>rating</th>\n",
              "      <th>title</th>\n",
              "      <th>text</th>\n",
              "      <th>timestamp</th>\n",
              "      <th>helpful_vote</th>\n",
              "      <th>verified_purchase</th>\n",
              "      <th>label</th>\n",
              "      <th>full_text</th>\n",
              "      <th>sentiment</th>\n",
              "    </tr>\n",
              "  </thead>\n",
              "  <tbody>\n",
              "    <tr>\n",
              "      <th>0</th>\n",
              "      <td>1.0</td>\n",
              "      <td>malware</td>\n",
              "      <td>mcaffee IS malware</td>\n",
              "      <td>1562182632076</td>\n",
              "      <td>0</td>\n",
              "      <td>0</td>\n",
              "      <td>negative</td>\n",
              "      <td>malware mcaffee is malware</td>\n",
              "      <td>negative</td>\n",
              "    </tr>\n",
              "    <tr>\n",
              "      <th>1</th>\n",
              "      <td>5.0</td>\n",
              "      <td>Lots of Fun</td>\n",
              "      <td>I love playing tapped out because it is fun to...</td>\n",
              "      <td>1424120336000</td>\n",
              "      <td>0</td>\n",
              "      <td>1</td>\n",
              "      <td>positive</td>\n",
              "      <td>lots of fun i love playing tapped out because ...</td>\n",
              "      <td>positive</td>\n",
              "    </tr>\n",
              "    <tr>\n",
              "      <th>2</th>\n",
              "      <td>5.0</td>\n",
              "      <td>Light Up The Dark</td>\n",
              "      <td>I love this flashlight app!  It really illumin...</td>\n",
              "      <td>1362399267000</td>\n",
              "      <td>0</td>\n",
              "      <td>1</td>\n",
              "      <td>positive</td>\n",
              "      <td>light up the dark i love this flashlight app i...</td>\n",
              "      <td>positive</td>\n",
              "    </tr>\n",
              "    <tr>\n",
              "      <th>3</th>\n",
              "      <td>4.0</td>\n",
              "      <td>Fun game</td>\n",
              "      <td>One of my favorite games</td>\n",
              "      <td>1561061428662</td>\n",
              "      <td>0</td>\n",
              "      <td>1</td>\n",
              "      <td>positive</td>\n",
              "      <td>fun game one of my favorite games</td>\n",
              "      <td>positive</td>\n",
              "    </tr>\n",
              "    <tr>\n",
              "      <th>4</th>\n",
              "      <td>4.0</td>\n",
              "      <td>I am not that good at it but my kids are</td>\n",
              "      <td>Cute game. I am not that good at it but my kid...</td>\n",
              "      <td>1418257196000</td>\n",
              "      <td>0</td>\n",
              "      <td>1</td>\n",
              "      <td>positive</td>\n",
              "      <td>i am not that good at it but my kids are cute ...</td>\n",
              "      <td>positive</td>\n",
              "    </tr>\n",
              "  </tbody>\n",
              "</table>\n",
              "</div>\n",
              "    <div class=\"colab-df-buttons\">\n",
              "\n",
              "  <div class=\"colab-df-container\">\n",
              "    <button class=\"colab-df-convert\" onclick=\"convertToInteractive('df-4e9b29f2-ee65-4157-8447-059abe95aa4c')\"\n",
              "            title=\"Convert this dataframe to an interactive table.\"\n",
              "            style=\"display:none;\">\n",
              "\n",
              "  <svg xmlns=\"http://www.w3.org/2000/svg\" height=\"24px\" viewBox=\"0 -960 960 960\">\n",
              "    <path d=\"M120-120v-720h720v720H120Zm60-500h600v-160H180v160Zm220 220h160v-160H400v160Zm0 220h160v-160H400v160ZM180-400h160v-160H180v160Zm440 0h160v-160H620v160ZM180-180h160v-160H180v160Zm440 0h160v-160H620v160Z\"/>\n",
              "  </svg>\n",
              "    </button>\n",
              "\n",
              "  <style>\n",
              "    .colab-df-container {\n",
              "      display:flex;\n",
              "      gap: 12px;\n",
              "    }\n",
              "\n",
              "    .colab-df-convert {\n",
              "      background-color: #E8F0FE;\n",
              "      border: none;\n",
              "      border-radius: 50%;\n",
              "      cursor: pointer;\n",
              "      display: none;\n",
              "      fill: #1967D2;\n",
              "      height: 32px;\n",
              "      padding: 0 0 0 0;\n",
              "      width: 32px;\n",
              "    }\n",
              "\n",
              "    .colab-df-convert:hover {\n",
              "      background-color: #E2EBFA;\n",
              "      box-shadow: 0px 1px 2px rgba(60, 64, 67, 0.3), 0px 1px 3px 1px rgba(60, 64, 67, 0.15);\n",
              "      fill: #174EA6;\n",
              "    }\n",
              "\n",
              "    .colab-df-buttons div {\n",
              "      margin-bottom: 4px;\n",
              "    }\n",
              "\n",
              "    [theme=dark] .colab-df-convert {\n",
              "      background-color: #3B4455;\n",
              "      fill: #D2E3FC;\n",
              "    }\n",
              "\n",
              "    [theme=dark] .colab-df-convert:hover {\n",
              "      background-color: #434B5C;\n",
              "      box-shadow: 0px 1px 3px 1px rgba(0, 0, 0, 0.15);\n",
              "      filter: drop-shadow(0px 1px 2px rgba(0, 0, 0, 0.3));\n",
              "      fill: #FFFFFF;\n",
              "    }\n",
              "  </style>\n",
              "\n",
              "    <script>\n",
              "      const buttonEl =\n",
              "        document.querySelector('#df-4e9b29f2-ee65-4157-8447-059abe95aa4c button.colab-df-convert');\n",
              "      buttonEl.style.display =\n",
              "        google.colab.kernel.accessAllowed ? 'block' : 'none';\n",
              "\n",
              "      async function convertToInteractive(key) {\n",
              "        const element = document.querySelector('#df-4e9b29f2-ee65-4157-8447-059abe95aa4c');\n",
              "        const dataTable =\n",
              "          await google.colab.kernel.invokeFunction('convertToInteractive',\n",
              "                                                    [key], {});\n",
              "        if (!dataTable) return;\n",
              "\n",
              "        const docLinkHtml = 'Like what you see? Visit the ' +\n",
              "          '<a target=\"_blank\" href=https://colab.research.google.com/notebooks/data_table.ipynb>data table notebook</a>'\n",
              "          + ' to learn more about interactive tables.';\n",
              "        element.innerHTML = '';\n",
              "        dataTable['output_type'] = 'display_data';\n",
              "        await google.colab.output.renderOutput(dataTable, element);\n",
              "        const docLink = document.createElement('div');\n",
              "        docLink.innerHTML = docLinkHtml;\n",
              "        element.appendChild(docLink);\n",
              "      }\n",
              "    </script>\n",
              "  </div>\n",
              "\n",
              "\n",
              "    <div id=\"df-70bd5677-e405-4546-90cf-8b4a8956c882\">\n",
              "      <button class=\"colab-df-quickchart\" onclick=\"quickchart('df-70bd5677-e405-4546-90cf-8b4a8956c882')\"\n",
              "                title=\"Suggest charts\"\n",
              "                style=\"display:none;\">\n",
              "\n",
              "<svg xmlns=\"http://www.w3.org/2000/svg\" height=\"24px\"viewBox=\"0 0 24 24\"\n",
              "     width=\"24px\">\n",
              "    <g>\n",
              "        <path d=\"M19 3H5c-1.1 0-2 .9-2 2v14c0 1.1.9 2 2 2h14c1.1 0 2-.9 2-2V5c0-1.1-.9-2-2-2zM9 17H7v-7h2v7zm4 0h-2V7h2v10zm4 0h-2v-4h2v4z\"/>\n",
              "    </g>\n",
              "</svg>\n",
              "      </button>\n",
              "\n",
              "<style>\n",
              "  .colab-df-quickchart {\n",
              "      --bg-color: #E8F0FE;\n",
              "      --fill-color: #1967D2;\n",
              "      --hover-bg-color: #E2EBFA;\n",
              "      --hover-fill-color: #174EA6;\n",
              "      --disabled-fill-color: #AAA;\n",
              "      --disabled-bg-color: #DDD;\n",
              "  }\n",
              "\n",
              "  [theme=dark] .colab-df-quickchart {\n",
              "      --bg-color: #3B4455;\n",
              "      --fill-color: #D2E3FC;\n",
              "      --hover-bg-color: #434B5C;\n",
              "      --hover-fill-color: #FFFFFF;\n",
              "      --disabled-bg-color: #3B4455;\n",
              "      --disabled-fill-color: #666;\n",
              "  }\n",
              "\n",
              "  .colab-df-quickchart {\n",
              "    background-color: var(--bg-color);\n",
              "    border: none;\n",
              "    border-radius: 50%;\n",
              "    cursor: pointer;\n",
              "    display: none;\n",
              "    fill: var(--fill-color);\n",
              "    height: 32px;\n",
              "    padding: 0;\n",
              "    width: 32px;\n",
              "  }\n",
              "\n",
              "  .colab-df-quickchart:hover {\n",
              "    background-color: var(--hover-bg-color);\n",
              "    box-shadow: 0 1px 2px rgba(60, 64, 67, 0.3), 0 1px 3px 1px rgba(60, 64, 67, 0.15);\n",
              "    fill: var(--button-hover-fill-color);\n",
              "  }\n",
              "\n",
              "  .colab-df-quickchart-complete:disabled,\n",
              "  .colab-df-quickchart-complete:disabled:hover {\n",
              "    background-color: var(--disabled-bg-color);\n",
              "    fill: var(--disabled-fill-color);\n",
              "    box-shadow: none;\n",
              "  }\n",
              "\n",
              "  .colab-df-spinner {\n",
              "    border: 2px solid var(--fill-color);\n",
              "    border-color: transparent;\n",
              "    border-bottom-color: var(--fill-color);\n",
              "    animation:\n",
              "      spin 1s steps(1) infinite;\n",
              "  }\n",
              "\n",
              "  @keyframes spin {\n",
              "    0% {\n",
              "      border-color: transparent;\n",
              "      border-bottom-color: var(--fill-color);\n",
              "      border-left-color: var(--fill-color);\n",
              "    }\n",
              "    20% {\n",
              "      border-color: transparent;\n",
              "      border-left-color: var(--fill-color);\n",
              "      border-top-color: var(--fill-color);\n",
              "    }\n",
              "    30% {\n",
              "      border-color: transparent;\n",
              "      border-left-color: var(--fill-color);\n",
              "      border-top-color: var(--fill-color);\n",
              "      border-right-color: var(--fill-color);\n",
              "    }\n",
              "    40% {\n",
              "      border-color: transparent;\n",
              "      border-right-color: var(--fill-color);\n",
              "      border-top-color: var(--fill-color);\n",
              "    }\n",
              "    60% {\n",
              "      border-color: transparent;\n",
              "      border-right-color: var(--fill-color);\n",
              "    }\n",
              "    80% {\n",
              "      border-color: transparent;\n",
              "      border-right-color: var(--fill-color);\n",
              "      border-bottom-color: var(--fill-color);\n",
              "    }\n",
              "    90% {\n",
              "      border-color: transparent;\n",
              "      border-bottom-color: var(--fill-color);\n",
              "    }\n",
              "  }\n",
              "</style>\n",
              "\n",
              "      <script>\n",
              "        async function quickchart(key) {\n",
              "          const quickchartButtonEl =\n",
              "            document.querySelector('#' + key + ' button');\n",
              "          quickchartButtonEl.disabled = true;  // To prevent multiple clicks.\n",
              "          quickchartButtonEl.classList.add('colab-df-spinner');\n",
              "          try {\n",
              "            const charts = await google.colab.kernel.invokeFunction(\n",
              "                'suggestCharts', [key], {});\n",
              "          } catch (error) {\n",
              "            console.error('Error during call to suggestCharts:', error);\n",
              "          }\n",
              "          quickchartButtonEl.classList.remove('colab-df-spinner');\n",
              "          quickchartButtonEl.classList.add('colab-df-quickchart-complete');\n",
              "        }\n",
              "        (() => {\n",
              "          let quickchartButtonEl =\n",
              "            document.querySelector('#df-70bd5677-e405-4546-90cf-8b4a8956c882 button');\n",
              "          quickchartButtonEl.style.display =\n",
              "            google.colab.kernel.accessAllowed ? 'block' : 'none';\n",
              "        })();\n",
              "      </script>\n",
              "    </div>\n",
              "\n",
              "    </div>\n",
              "  </div>\n"
            ],
            "application/vnd.google.colaboratory.intrinsic+json": {
              "type": "dataframe",
              "variable_name": "df",
              "summary": "{\n  \"name\": \"df\",\n  \"rows\": 49962,\n  \"fields\": [\n    {\n      \"column\": \"rating\",\n      \"properties\": {\n        \"dtype\": \"number\",\n        \"std\": 1.4847050391253103,\n        \"min\": 1.0,\n        \"max\": 5.0,\n        \"num_unique_values\": 5,\n        \"samples\": [\n          5.0,\n          3.0,\n          4.0\n        ],\n        \"semantic_type\": \"\",\n        \"description\": \"\"\n      }\n    },\n    {\n      \"column\": \"title\",\n      \"properties\": {\n        \"dtype\": \"string\",\n        \"num_unique_values\": 28841,\n        \"samples\": [\n          \"Totally recommended\",\n          \"Too difficult to explore\",\n          \"It\\u2019s just ok.\"\n        ],\n        \"semantic_type\": \"\",\n        \"description\": \"\"\n      }\n    },\n    {\n      \"column\": \"text\",\n      \"properties\": {\n        \"dtype\": \"string\",\n        \"num_unique_values\": 43171,\n        \"samples\": [\n          \"I like to see several reports of the weather. Minnesota is cold! And it can get dangerously cold in a short time. We have to stay informed!\",\n          \"I loved this game.\",\n          \"You should dkjxnwndjzjandnxnan did she sand Rick the\"\n        ],\n        \"semantic_type\": \"\",\n        \"description\": \"\"\n      }\n    },\n    {\n      \"column\": \"timestamp\",\n      \"properties\": {\n        \"dtype\": \"number\",\n        \"std\": 90043063772,\n        \"min\": 951775046000,\n        \"max\": 1679170129070,\n        \"num_unique_values\": 49893,\n        \"samples\": [\n          1519788895327,\n          1359753703000,\n          1454289090000\n        ],\n        \"semantic_type\": \"\",\n        \"description\": \"\"\n      }\n    },\n    {\n      \"column\": \"helpful_vote\",\n      \"properties\": {\n        \"dtype\": \"number\",\n        \"std\": 19,\n        \"min\": 0,\n        \"max\": 2085,\n        \"num_unique_values\": 229,\n        \"samples\": [\n          128,\n          100,\n          14\n        ],\n        \"semantic_type\": \"\",\n        \"description\": \"\"\n      }\n    },\n    {\n      \"column\": \"verified_purchase\",\n      \"properties\": {\n        \"dtype\": \"number\",\n        \"std\": 0,\n        \"min\": 0,\n        \"max\": 1,\n        \"num_unique_values\": 2,\n        \"samples\": [\n          1,\n          0\n        ],\n        \"semantic_type\": \"\",\n        \"description\": \"\"\n      }\n    },\n    {\n      \"column\": \"label\",\n      \"properties\": {\n        \"dtype\": \"category\",\n        \"num_unique_values\": 3,\n        \"samples\": [\n          \"negative\",\n          \"positive\"\n        ],\n        \"semantic_type\": \"\",\n        \"description\": \"\"\n      }\n    },\n    {\n      \"column\": \"full_text\",\n      \"properties\": {\n        \"dtype\": \"string\",\n        \"num_unique_values\": 44481,\n        \"samples\": [\n          \"it works ive used turbotax every year since lots of changes over the years i am not here to debate costs and small changes over the years if you want to do your taxes easily then pick this or one of the other services and just stick with the same program we have to file right we want to do it quickly and without hassle right it needs to be inexpensive right i have no complaints it still works like it did years ago ok\",\n          \"fun game i like thi sgame bc its fun and addicting without being overly complicated like many games tend to be i just want something simple to busy myself during downtime this does that\"\n        ],\n        \"semantic_type\": \"\",\n        \"description\": \"\"\n      }\n    },\n    {\n      \"column\": \"sentiment\",\n      \"properties\": {\n        \"dtype\": \"category\",\n        \"num_unique_values\": 3,\n        \"samples\": [\n          \"negative\",\n          \"positive\"\n        ],\n        \"semantic_type\": \"\",\n        \"description\": \"\"\n      }\n    }\n  ]\n}"
            }
          },
          "metadata": {},
          "execution_count": 4
        }
      ]
    },
    {
      "cell_type": "code",
      "source": [
        "print(df[['full_text', 'sentiment']].isna().sum())"
      ],
      "metadata": {
        "id": "NXVRaWs2JBJc",
        "outputId": "4056706c-4f04-4ff2-8164-7e572f390d1f",
        "colab": {
          "base_uri": "https://localhost:8080/"
        }
      },
      "execution_count": 6,
      "outputs": [
        {
          "output_type": "stream",
          "name": "stdout",
          "text": [
            "full_text    0\n",
            "sentiment    0\n",
            "dtype: int64\n"
          ]
        }
      ]
    },
    {
      "cell_type": "code",
      "execution_count": null,
      "metadata": {
        "id": "Mx53eqEvjp6d",
        "outputId": "112f2efa-6a50-4048-a7f0-07131b9ca5e3",
        "colab": {
          "base_uri": "https://localhost:8080/",
          "height": 276
        },
        "collapsed": true
      },
      "outputs": [
        {
          "output_type": "execute_result",
          "data": {
            "text/plain": [
              "   rating                                     title  \\\n",
              "0     1.0                                   malware   \n",
              "1     5.0                               Lots of Fun   \n",
              "2     5.0                         Light Up The Dark   \n",
              "3     4.0                                  Fun game   \n",
              "4     4.0  I am not that good at it but my kids are   \n",
              "\n",
              "                                                text      timestamp  \\\n",
              "0                                 mcaffee IS malware  1562182632076   \n",
              "1  I love playing tapped out because it is fun to...  1424120336000   \n",
              "2  I love this flashlight app!  It really illumin...  1362399267000   \n",
              "3                           One of my favorite games  1561061428662   \n",
              "4  Cute game. I am not that good at it but my kid...  1418257196000   \n",
              "\n",
              "   helpful_vote  verified_purchase     label  \\\n",
              "0             0                  0  negative   \n",
              "1             0                  1  positive   \n",
              "2             0                  1  positive   \n",
              "3             0                  1  positive   \n",
              "4             0                  1  positive   \n",
              "\n",
              "                                           full_text sentiment  \n",
              "0                         malware mcaffee is malware  negative  \n",
              "1  lots of fun i love playing tapped out because ...  positive  \n",
              "2  light up the dark i love this flashlight app i...  positive  \n",
              "3                  fun game one of my favorite games  positive  \n",
              "4  i am not that good at it but my kids are cute ...  positive  "
            ],
            "text/html": [
              "\n",
              "  <div id=\"df-58157ead-0d1a-4cff-8919-5a22d71befe9\" class=\"colab-df-container\">\n",
              "    <div>\n",
              "<style scoped>\n",
              "    .dataframe tbody tr th:only-of-type {\n",
              "        vertical-align: middle;\n",
              "    }\n",
              "\n",
              "    .dataframe tbody tr th {\n",
              "        vertical-align: top;\n",
              "    }\n",
              "\n",
              "    .dataframe thead th {\n",
              "        text-align: right;\n",
              "    }\n",
              "</style>\n",
              "<table border=\"1\" class=\"dataframe\">\n",
              "  <thead>\n",
              "    <tr style=\"text-align: right;\">\n",
              "      <th></th>\n",
              "      <th>rating</th>\n",
              "      <th>title</th>\n",
              "      <th>text</th>\n",
              "      <th>timestamp</th>\n",
              "      <th>helpful_vote</th>\n",
              "      <th>verified_purchase</th>\n",
              "      <th>label</th>\n",
              "      <th>full_text</th>\n",
              "      <th>sentiment</th>\n",
              "    </tr>\n",
              "  </thead>\n",
              "  <tbody>\n",
              "    <tr>\n",
              "      <th>0</th>\n",
              "      <td>1.0</td>\n",
              "      <td>malware</td>\n",
              "      <td>mcaffee IS malware</td>\n",
              "      <td>1562182632076</td>\n",
              "      <td>0</td>\n",
              "      <td>0</td>\n",
              "      <td>negative</td>\n",
              "      <td>malware mcaffee is malware</td>\n",
              "      <td>negative</td>\n",
              "    </tr>\n",
              "    <tr>\n",
              "      <th>1</th>\n",
              "      <td>5.0</td>\n",
              "      <td>Lots of Fun</td>\n",
              "      <td>I love playing tapped out because it is fun to...</td>\n",
              "      <td>1424120336000</td>\n",
              "      <td>0</td>\n",
              "      <td>1</td>\n",
              "      <td>positive</td>\n",
              "      <td>lots of fun i love playing tapped out because ...</td>\n",
              "      <td>positive</td>\n",
              "    </tr>\n",
              "    <tr>\n",
              "      <th>2</th>\n",
              "      <td>5.0</td>\n",
              "      <td>Light Up The Dark</td>\n",
              "      <td>I love this flashlight app!  It really illumin...</td>\n",
              "      <td>1362399267000</td>\n",
              "      <td>0</td>\n",
              "      <td>1</td>\n",
              "      <td>positive</td>\n",
              "      <td>light up the dark i love this flashlight app i...</td>\n",
              "      <td>positive</td>\n",
              "    </tr>\n",
              "    <tr>\n",
              "      <th>3</th>\n",
              "      <td>4.0</td>\n",
              "      <td>Fun game</td>\n",
              "      <td>One of my favorite games</td>\n",
              "      <td>1561061428662</td>\n",
              "      <td>0</td>\n",
              "      <td>1</td>\n",
              "      <td>positive</td>\n",
              "      <td>fun game one of my favorite games</td>\n",
              "      <td>positive</td>\n",
              "    </tr>\n",
              "    <tr>\n",
              "      <th>4</th>\n",
              "      <td>4.0</td>\n",
              "      <td>I am not that good at it but my kids are</td>\n",
              "      <td>Cute game. I am not that good at it but my kid...</td>\n",
              "      <td>1418257196000</td>\n",
              "      <td>0</td>\n",
              "      <td>1</td>\n",
              "      <td>positive</td>\n",
              "      <td>i am not that good at it but my kids are cute ...</td>\n",
              "      <td>positive</td>\n",
              "    </tr>\n",
              "  </tbody>\n",
              "</table>\n",
              "</div>\n",
              "    <div class=\"colab-df-buttons\">\n",
              "\n",
              "  <div class=\"colab-df-container\">\n",
              "    <button class=\"colab-df-convert\" onclick=\"convertToInteractive('df-58157ead-0d1a-4cff-8919-5a22d71befe9')\"\n",
              "            title=\"Convert this dataframe to an interactive table.\"\n",
              "            style=\"display:none;\">\n",
              "\n",
              "  <svg xmlns=\"http://www.w3.org/2000/svg\" height=\"24px\" viewBox=\"0 -960 960 960\">\n",
              "    <path d=\"M120-120v-720h720v720H120Zm60-500h600v-160H180v160Zm220 220h160v-160H400v160Zm0 220h160v-160H400v160ZM180-400h160v-160H180v160Zm440 0h160v-160H620v160ZM180-180h160v-160H180v160Zm440 0h160v-160H620v160Z\"/>\n",
              "  </svg>\n",
              "    </button>\n",
              "\n",
              "  <style>\n",
              "    .colab-df-container {\n",
              "      display:flex;\n",
              "      gap: 12px;\n",
              "    }\n",
              "\n",
              "    .colab-df-convert {\n",
              "      background-color: #E8F0FE;\n",
              "      border: none;\n",
              "      border-radius: 50%;\n",
              "      cursor: pointer;\n",
              "      display: none;\n",
              "      fill: #1967D2;\n",
              "      height: 32px;\n",
              "      padding: 0 0 0 0;\n",
              "      width: 32px;\n",
              "    }\n",
              "\n",
              "    .colab-df-convert:hover {\n",
              "      background-color: #E2EBFA;\n",
              "      box-shadow: 0px 1px 2px rgba(60, 64, 67, 0.3), 0px 1px 3px 1px rgba(60, 64, 67, 0.15);\n",
              "      fill: #174EA6;\n",
              "    }\n",
              "\n",
              "    .colab-df-buttons div {\n",
              "      margin-bottom: 4px;\n",
              "    }\n",
              "\n",
              "    [theme=dark] .colab-df-convert {\n",
              "      background-color: #3B4455;\n",
              "      fill: #D2E3FC;\n",
              "    }\n",
              "\n",
              "    [theme=dark] .colab-df-convert:hover {\n",
              "      background-color: #434B5C;\n",
              "      box-shadow: 0px 1px 3px 1px rgba(0, 0, 0, 0.15);\n",
              "      filter: drop-shadow(0px 1px 2px rgba(0, 0, 0, 0.3));\n",
              "      fill: #FFFFFF;\n",
              "    }\n",
              "  </style>\n",
              "\n",
              "    <script>\n",
              "      const buttonEl =\n",
              "        document.querySelector('#df-58157ead-0d1a-4cff-8919-5a22d71befe9 button.colab-df-convert');\n",
              "      buttonEl.style.display =\n",
              "        google.colab.kernel.accessAllowed ? 'block' : 'none';\n",
              "\n",
              "      async function convertToInteractive(key) {\n",
              "        const element = document.querySelector('#df-58157ead-0d1a-4cff-8919-5a22d71befe9');\n",
              "        const dataTable =\n",
              "          await google.colab.kernel.invokeFunction('convertToInteractive',\n",
              "                                                    [key], {});\n",
              "        if (!dataTable) return;\n",
              "\n",
              "        const docLinkHtml = 'Like what you see? Visit the ' +\n",
              "          '<a target=\"_blank\" href=https://colab.research.google.com/notebooks/data_table.ipynb>data table notebook</a>'\n",
              "          + ' to learn more about interactive tables.';\n",
              "        element.innerHTML = '';\n",
              "        dataTable['output_type'] = 'display_data';\n",
              "        await google.colab.output.renderOutput(dataTable, element);\n",
              "        const docLink = document.createElement('div');\n",
              "        docLink.innerHTML = docLinkHtml;\n",
              "        element.appendChild(docLink);\n",
              "      }\n",
              "    </script>\n",
              "  </div>\n",
              "\n",
              "\n",
              "    <div id=\"df-3529e159-31dd-46b4-812f-f0e0f576bcbd\">\n",
              "      <button class=\"colab-df-quickchart\" onclick=\"quickchart('df-3529e159-31dd-46b4-812f-f0e0f576bcbd')\"\n",
              "                title=\"Suggest charts\"\n",
              "                style=\"display:none;\">\n",
              "\n",
              "<svg xmlns=\"http://www.w3.org/2000/svg\" height=\"24px\"viewBox=\"0 0 24 24\"\n",
              "     width=\"24px\">\n",
              "    <g>\n",
              "        <path d=\"M19 3H5c-1.1 0-2 .9-2 2v14c0 1.1.9 2 2 2h14c1.1 0 2-.9 2-2V5c0-1.1-.9-2-2-2zM9 17H7v-7h2v7zm4 0h-2V7h2v10zm4 0h-2v-4h2v4z\"/>\n",
              "    </g>\n",
              "</svg>\n",
              "      </button>\n",
              "\n",
              "<style>\n",
              "  .colab-df-quickchart {\n",
              "      --bg-color: #E8F0FE;\n",
              "      --fill-color: #1967D2;\n",
              "      --hover-bg-color: #E2EBFA;\n",
              "      --hover-fill-color: #174EA6;\n",
              "      --disabled-fill-color: #AAA;\n",
              "      --disabled-bg-color: #DDD;\n",
              "  }\n",
              "\n",
              "  [theme=dark] .colab-df-quickchart {\n",
              "      --bg-color: #3B4455;\n",
              "      --fill-color: #D2E3FC;\n",
              "      --hover-bg-color: #434B5C;\n",
              "      --hover-fill-color: #FFFFFF;\n",
              "      --disabled-bg-color: #3B4455;\n",
              "      --disabled-fill-color: #666;\n",
              "  }\n",
              "\n",
              "  .colab-df-quickchart {\n",
              "    background-color: var(--bg-color);\n",
              "    border: none;\n",
              "    border-radius: 50%;\n",
              "    cursor: pointer;\n",
              "    display: none;\n",
              "    fill: var(--fill-color);\n",
              "    height: 32px;\n",
              "    padding: 0;\n",
              "    width: 32px;\n",
              "  }\n",
              "\n",
              "  .colab-df-quickchart:hover {\n",
              "    background-color: var(--hover-bg-color);\n",
              "    box-shadow: 0 1px 2px rgba(60, 64, 67, 0.3), 0 1px 3px 1px rgba(60, 64, 67, 0.15);\n",
              "    fill: var(--button-hover-fill-color);\n",
              "  }\n",
              "\n",
              "  .colab-df-quickchart-complete:disabled,\n",
              "  .colab-df-quickchart-complete:disabled:hover {\n",
              "    background-color: var(--disabled-bg-color);\n",
              "    fill: var(--disabled-fill-color);\n",
              "    box-shadow: none;\n",
              "  }\n",
              "\n",
              "  .colab-df-spinner {\n",
              "    border: 2px solid var(--fill-color);\n",
              "    border-color: transparent;\n",
              "    border-bottom-color: var(--fill-color);\n",
              "    animation:\n",
              "      spin 1s steps(1) infinite;\n",
              "  }\n",
              "\n",
              "  @keyframes spin {\n",
              "    0% {\n",
              "      border-color: transparent;\n",
              "      border-bottom-color: var(--fill-color);\n",
              "      border-left-color: var(--fill-color);\n",
              "    }\n",
              "    20% {\n",
              "      border-color: transparent;\n",
              "      border-left-color: var(--fill-color);\n",
              "      border-top-color: var(--fill-color);\n",
              "    }\n",
              "    30% {\n",
              "      border-color: transparent;\n",
              "      border-left-color: var(--fill-color);\n",
              "      border-top-color: var(--fill-color);\n",
              "      border-right-color: var(--fill-color);\n",
              "    }\n",
              "    40% {\n",
              "      border-color: transparent;\n",
              "      border-right-color: var(--fill-color);\n",
              "      border-top-color: var(--fill-color);\n",
              "    }\n",
              "    60% {\n",
              "      border-color: transparent;\n",
              "      border-right-color: var(--fill-color);\n",
              "    }\n",
              "    80% {\n",
              "      border-color: transparent;\n",
              "      border-right-color: var(--fill-color);\n",
              "      border-bottom-color: var(--fill-color);\n",
              "    }\n",
              "    90% {\n",
              "      border-color: transparent;\n",
              "      border-bottom-color: var(--fill-color);\n",
              "    }\n",
              "  }\n",
              "</style>\n",
              "\n",
              "      <script>\n",
              "        async function quickchart(key) {\n",
              "          const quickchartButtonEl =\n",
              "            document.querySelector('#' + key + ' button');\n",
              "          quickchartButtonEl.disabled = true;  // To prevent multiple clicks.\n",
              "          quickchartButtonEl.classList.add('colab-df-spinner');\n",
              "          try {\n",
              "            const charts = await google.colab.kernel.invokeFunction(\n",
              "                'suggestCharts', [key], {});\n",
              "          } catch (error) {\n",
              "            console.error('Error during call to suggestCharts:', error);\n",
              "          }\n",
              "          quickchartButtonEl.classList.remove('colab-df-spinner');\n",
              "          quickchartButtonEl.classList.add('colab-df-quickchart-complete');\n",
              "        }\n",
              "        (() => {\n",
              "          let quickchartButtonEl =\n",
              "            document.querySelector('#df-3529e159-31dd-46b4-812f-f0e0f576bcbd button');\n",
              "          quickchartButtonEl.style.display =\n",
              "            google.colab.kernel.accessAllowed ? 'block' : 'none';\n",
              "        })();\n",
              "      </script>\n",
              "    </div>\n",
              "\n",
              "    </div>\n",
              "  </div>\n"
            ],
            "application/vnd.google.colaboratory.intrinsic+json": {
              "type": "dataframe",
              "variable_name": "df",
              "summary": "{\n  \"name\": \"df\",\n  \"rows\": 49962,\n  \"fields\": [\n    {\n      \"column\": \"rating\",\n      \"properties\": {\n        \"dtype\": \"number\",\n        \"std\": 1.4847050391253103,\n        \"min\": 1.0,\n        \"max\": 5.0,\n        \"num_unique_values\": 5,\n        \"samples\": [\n          5.0,\n          3.0,\n          4.0\n        ],\n        \"semantic_type\": \"\",\n        \"description\": \"\"\n      }\n    },\n    {\n      \"column\": \"title\",\n      \"properties\": {\n        \"dtype\": \"string\",\n        \"num_unique_values\": 28841,\n        \"samples\": [\n          \"Totally recommended\",\n          \"Too difficult to explore\",\n          \"It\\u2019s just ok.\"\n        ],\n        \"semantic_type\": \"\",\n        \"description\": \"\"\n      }\n    },\n    {\n      \"column\": \"text\",\n      \"properties\": {\n        \"dtype\": \"string\",\n        \"num_unique_values\": 43171,\n        \"samples\": [\n          \"I like to see several reports of the weather. Minnesota is cold! And it can get dangerously cold in a short time. We have to stay informed!\",\n          \"I loved this game.\",\n          \"You should dkjxnwndjzjandnxnan did she sand Rick the\"\n        ],\n        \"semantic_type\": \"\",\n        \"description\": \"\"\n      }\n    },\n    {\n      \"column\": \"timestamp\",\n      \"properties\": {\n        \"dtype\": \"number\",\n        \"std\": 90043063772,\n        \"min\": 951775046000,\n        \"max\": 1679170129070,\n        \"num_unique_values\": 49893,\n        \"samples\": [\n          1519788895327,\n          1359753703000,\n          1454289090000\n        ],\n        \"semantic_type\": \"\",\n        \"description\": \"\"\n      }\n    },\n    {\n      \"column\": \"helpful_vote\",\n      \"properties\": {\n        \"dtype\": \"number\",\n        \"std\": 19,\n        \"min\": 0,\n        \"max\": 2085,\n        \"num_unique_values\": 229,\n        \"samples\": [\n          128,\n          100,\n          14\n        ],\n        \"semantic_type\": \"\",\n        \"description\": \"\"\n      }\n    },\n    {\n      \"column\": \"verified_purchase\",\n      \"properties\": {\n        \"dtype\": \"number\",\n        \"std\": 0,\n        \"min\": 0,\n        \"max\": 1,\n        \"num_unique_values\": 2,\n        \"samples\": [\n          1,\n          0\n        ],\n        \"semantic_type\": \"\",\n        \"description\": \"\"\n      }\n    },\n    {\n      \"column\": \"label\",\n      \"properties\": {\n        \"dtype\": \"category\",\n        \"num_unique_values\": 3,\n        \"samples\": [\n          \"negative\",\n          \"positive\"\n        ],\n        \"semantic_type\": \"\",\n        \"description\": \"\"\n      }\n    },\n    {\n      \"column\": \"full_text\",\n      \"properties\": {\n        \"dtype\": \"string\",\n        \"num_unique_values\": 44481,\n        \"samples\": [\n          \"it works ive used turbotax every year since lots of changes over the years i am not here to debate costs and small changes over the years if you want to do your taxes easily then pick this or one of the other services and just stick with the same program we have to file right we want to do it quickly and without hassle right it needs to be inexpensive right i have no complaints it still works like it did years ago ok\",\n          \"fun game i like thi sgame bc its fun and addicting without being overly complicated like many games tend to be i just want something simple to busy myself during downtime this does that\"\n        ],\n        \"semantic_type\": \"\",\n        \"description\": \"\"\n      }\n    },\n    {\n      \"column\": \"sentiment\",\n      \"properties\": {\n        \"dtype\": \"category\",\n        \"num_unique_values\": 3,\n        \"samples\": [\n          \"negative\",\n          \"positive\"\n        ],\n        \"semantic_type\": \"\",\n        \"description\": \"\"\n      }\n    }\n  ]\n}"
            }
          },
          "metadata": {},
          "execution_count": 7
        }
      ],
      "source": [
        "df.head()"
      ]
    },
    {
      "cell_type": "code",
      "source": [
        "X_text = df['full_text']\n",
        "X_extra = df[['verified_purchase', 'helpful_vote']]\n",
        "y = df['sentiment']"
      ],
      "metadata": {
        "id": "WP1WCQdAL3M-"
      },
      "execution_count": 7,
      "outputs": []
    },
    {
      "cell_type": "code",
      "source": [
        "y.value_counts()"
      ],
      "metadata": {
        "collapsed": true,
        "colab": {
          "base_uri": "https://localhost:8080/",
          "height": 210
        },
        "id": "on0REp3EUq75",
        "outputId": "379d6e48-5562-4223-8e24-e72b32de193c"
      },
      "execution_count": 10,
      "outputs": [
        {
          "output_type": "execute_result",
          "data": {
            "text/plain": [
              "sentiment\n",
              "positive    63932\n",
              "negative    23635\n",
              "neutral     12433\n",
              "Name: count, dtype: int64"
            ],
            "text/html": [
              "<div>\n",
              "<style scoped>\n",
              "    .dataframe tbody tr th:only-of-type {\n",
              "        vertical-align: middle;\n",
              "    }\n",
              "\n",
              "    .dataframe tbody tr th {\n",
              "        vertical-align: top;\n",
              "    }\n",
              "\n",
              "    .dataframe thead th {\n",
              "        text-align: right;\n",
              "    }\n",
              "</style>\n",
              "<table border=\"1\" class=\"dataframe\">\n",
              "  <thead>\n",
              "    <tr style=\"text-align: right;\">\n",
              "      <th></th>\n",
              "      <th>count</th>\n",
              "    </tr>\n",
              "    <tr>\n",
              "      <th>sentiment</th>\n",
              "      <th></th>\n",
              "    </tr>\n",
              "  </thead>\n",
              "  <tbody>\n",
              "    <tr>\n",
              "      <th>positive</th>\n",
              "      <td>63932</td>\n",
              "    </tr>\n",
              "    <tr>\n",
              "      <th>negative</th>\n",
              "      <td>23635</td>\n",
              "    </tr>\n",
              "    <tr>\n",
              "      <th>neutral</th>\n",
              "      <td>12433</td>\n",
              "    </tr>\n",
              "  </tbody>\n",
              "</table>\n",
              "</div><br><label><b>dtype:</b> int64</label>"
            ]
          },
          "metadata": {},
          "execution_count": 10
        }
      ]
    },
    {
      "cell_type": "code",
      "source": [
        "from sklearn.model_selection import train_test_split\n",
        "\n",
        "X_train, X_test, y_train, y_test = train_test_split(X_text, y, test_size=0.2, random_state=42, stratify=y)"
      ],
      "metadata": {
        "id": "_vBot90xL3RE"
      },
      "execution_count": 11,
      "outputs": []
    },
    {
      "cell_type": "markdown",
      "source": [
        "***Vectorization TF-IDF Selection par chi*** **2**"
      ],
      "metadata": {
        "id": "G9QXJXvDUzjG"
      }
    },
    {
      "cell_type": "code",
      "source": [
        "tfidf = TfidfVectorizer(max_features=5000, ngram_range=(1,2), stop_words='english')\n",
        "X_train_vec = tfidf.fit_transform(X_train)\n",
        "X_test_vec = tfidf.transform(X_test) # une transformation en se basant sur le vocabulaire appris du train not the new words in the test set"
      ],
      "metadata": {
        "id": "KkwTqqenL3UQ"
      },
      "execution_count": null,
      "outputs": []
    },
    {
      "cell_type": "code",
      "source": [
        "# selection des 'features' avec chi 2\n",
        "from sklearn.feature_selection import SelectKBest, chi2\n",
        "\n",
        "# le fit : sélectionner les 300 features avec les scores chi² les plus élevés\n",
        "# le transform :  supprimer toutes les cfeatures qui ne font pas partie des 300 retenues\n",
        "selector = SelectKBest(score_func=chi2, k=300)\n",
        "X_train_selected = selector.fit_transform(X_train_vec, y_train)\n",
        "\n",
        "X_test_selected = selector.transform(X_test_vec)"
      ],
      "metadata": {
        "id": "TZbe3pGnL3Xb"
      },
      "execution_count": null,
      "outputs": []
    },
    {
      "cell_type": "code",
      "execution_count": null,
      "metadata": {
        "id": "We8J52ejjp6n",
        "outputId": "77d2c332-86ca-48e4-c6ce-29d695f5e8b7",
        "colab": {
          "base_uri": "https://localhost:8080/"
        }
      },
      "outputs": [
        {
          "output_type": "stream",
          "name": "stdout",
          "text": [
            "Model: LinearSVC with Class Weight Balancing\n",
            "Training took 0.01 minutes\n",
            "Accuracy: 0.8219\n",
            "F1 Score (macro): 0.7231\n",
            "Classification Report:\n",
            "              precision    recall  f1-score   support\n",
            "\n",
            "    negative       0.74      0.77      0.76      2321\n",
            "     neutral       0.63      0.44      0.52      1244\n",
            "    positive       0.88      0.91      0.89      6428\n",
            "\n",
            "    accuracy                           0.82      9993\n",
            "   macro avg       0.75      0.71      0.72      9993\n",
            "weighted avg       0.81      0.82      0.82      9993\n",
            "\n",
            "Cross-validation (5 folds) on training data:\n",
            "Mean CV F1 Score: 0.7213 (+/- 0.0069)\n"
          ]
        }
      ],
      "source": [
        "from sklearn.svm import LinearSVC\n",
        "from sklearn.metrics import accuracy_score, f1_score, classification_report\n",
        "from sklearn.model_selection import cross_val_score, StratifiedKFold\n",
        "import time\n",
        "\n",
        "print(\"Model: LinearSVC with Class Weight Balancing\")\n",
        "\n",
        "target_names = ['negative', 'neutral', 'positive']\n",
        "\n",
        "\n",
        "svm_model = LinearSVC(class_weight='balanced', random_state=42, max_iter=5000)\n",
        "\n",
        "start_time = time.time()\n",
        "svm_model.fit(X_train_selected, y_train)\n",
        "train_time = time.time() - start_time\n",
        "\n",
        "print(f\"Training took {train_time/60:.2f} minutes\")\n",
        "\n",
        "y_pred_svm = svm_model.predict(X_test_selected)\n",
        "\n",
        "acc = accuracy_score(y_test, y_pred_svm)\n",
        "f1 = f1_score(y_test, y_pred_svm, average='macro')\n",
        "\n",
        "print(f\"Accuracy: {acc:.4f}\")\n",
        "print(f\"F1 Score (macro): {f1:.4f}\")\n",
        "print(f\"Classification Report:\\n{classification_report(y_test, y_pred_svm, target_names=target_names)}\")\n",
        "\n",
        "# Cross-validation (5 folds)\n",
        "cv_scores = cross_val_score(svm_model, X_train_selected, y_train, cv=StratifiedKFold(5), scoring='f1_macro', n_jobs=-1)\n",
        "print(\"Cross-validation (5 folds) on training data:\")\n",
        "print(f\"Mean CV F1 Score: {cv_scores.mean():.4f} (+/- {cv_scores.std():.4f})\")\n"
      ]
    },
    {
      "cell_type": "code",
      "execution_count": null,
      "metadata": {
        "id": "_h0_2d2yjp76",
        "colab": {
          "base_uri": "https://localhost:8080/",
          "height": 472
        },
        "outputId": "9402b086-d917-47c4-8928-4f7eaca27aed"
      },
      "outputs": [
        {
          "output_type": "display_data",
          "data": {
            "text/plain": [
              "<Figure size 640x480 with 2 Axes>"
            ],
            "image/png": "[encoded data removed]"
          },
          "metadata": {}
        }
      ],
      "source": [
        "from sklearn.metrics import confusion_matrix, ConfusionMatrixDisplay\n",
        "import matplotlib.pyplot as plt\n",
        "\n",
        "# Generate the confusion matrix\n",
        "cm = confusion_matrix(y_test, y_pred_svm)\n",
        "\n",
        "# Display the confusion matrix with labels\n",
        "disp = ConfusionMatrixDisplay(confusion_matrix=cm, display_labels=target_names)\n",
        "disp.plot(cmap=plt.cm.Blues)\n",
        "plt.title(\"Confusion Matrix\")\n",
        "plt.show()"
      ]
    },
    {
      "cell_type": "code",
      "source": [
        "import joblib\n",
        "joblib.dump(svm_model, '/content/drive/MyDrive/sentiment_project/svm_model_bert_chi2.joblib')"
      ],
      "metadata": {
        "id": "qS8mhPiaXCwr",
        "colab": {
          "base_uri": "https://localhost:8080/"
        },
        "outputId": "cf360194-8560-4b6b-c4fd-99cbb74f9cc8"
      },
      "execution_count": null,
      "outputs": [
        {
          "output_type": "execute_result",
          "data": {
            "text/plain": [
              "['/content/drive/MyDrive/sentiment_project/svm_model_bert_chi2.joblib']"
            ]
          },
          "metadata": {},
          "execution_count": 14
        }
      ]
    },
    {
      "cell_type": "code",
      "source": [
        "from sklearn.linear_model import LogisticRegression\n",
        "from sklearn.metrics import accuracy_score, f1_score, classification_report\n",
        "from sklearn.model_selection import cross_val_score, StratifiedKFold\n",
        "import time\n",
        "\n",
        "print(\"Model: Logistic Regression with Class Weight Balancing\")\n",
        "\n",
        "# Define class labels (ensure same order as LabelEncoder)\n",
        "target_names = ['negative', 'neutral', 'positive']\n",
        "\n",
        "# Create model with solver optimized for large datasets\n",
        "lr_model = LogisticRegression(\n",
        "    max_iter=1000,\n",
        "    random_state=42,\n",
        "    class_weight='balanced',\n",
        "    solver='saga',          # Good for large data + supports L1/L2 penalties\n",
        "    n_jobs=-1               # Use all cores during fitting\n",
        ")\n",
        "\n",
        "# Train model and track training time\n",
        "start_time = time.time()\n",
        "lr_model.fit(X_train_selected, y_train)\n",
        "train_time = time.time() - start_time\n",
        "print(f\"Training took {train_time / 60:.2f} minutes\")\n",
        "\n",
        "# Predict\n",
        "y_pred_lr = lr_model.predict(X_test_selected)\n",
        "\n",
        "# Evaluation\n",
        "acc = accuracy_score(y_test, y_pred_lr)\n",
        "f1 = f1_score(y_test, y_pred_lr, average='macro')\n",
        "print(f\"Accuracy: {acc:.4f}\")\n",
        "print(f\"F1 Score (macro): {f1:.4f}\")\n",
        "print(f\"Classification Report:\\n{classification_report(y_test, y_pred_lr, target_names=target_names)}\")\n",
        "\n",
        "# Cross-validation (parallelized)\n",
        "cv_scores = cross_val_score(\n",
        "    lr_model,\n",
        "    X_train_selected,\n",
        "    y_train,\n",
        "    cv=StratifiedKFold(5),\n",
        "    scoring='f1_macro',\n",
        "    n_jobs=-1\n",
        ")\n",
        "print(\"Cross-validation (5 folds) on training data:\")\n",
        "print(f\"Mean CV F1 Score: {cv_scores.mean():.4f} (+/- {cv_scores.std():.4f})\")"
      ],
      "metadata": {
        "id": "ScpWueruXC1S",
        "colab": {
          "base_uri": "https://localhost:8080/"
        },
        "outputId": "3695063a-0410-451c-f22c-79443a899455"
      },
      "execution_count": null,
      "outputs": [
        {
          "output_type": "stream",
          "name": "stdout",
          "text": [
            "Model: Logistic Regression with Class Weight Balancing\n",
            "Training took 0.01 minutes\n",
            "Accuracy: 0.7644\n",
            "F1 Score (macro): 0.6921\n",
            "Classification Report:\n",
            "              precision    recall  f1-score   support\n",
            "\n",
            "    negative       0.66      0.84      0.74      2321\n",
            "     neutral       0.42      0.60      0.49      1244\n",
            "    positive       0.94      0.77      0.85      6428\n",
            "\n",
            "    accuracy                           0.76      9993\n",
            "   macro avg       0.67      0.73      0.69      9993\n",
            "weighted avg       0.81      0.76      0.78      9993\n",
            "\n",
            "Cross-validation (5 folds) on training data:\n",
            "Mean CV F1 Score: 0.6908 (+/- 0.0045)\n"
          ]
        }
      ]
    },
    {
      "cell_type": "code",
      "source": [
        "cm2 = confusion_matrix(y_test, y_pred_lr)\n",
        "\n",
        "# Display the confusion matrix with labels\n",
        "disp = ConfusionMatrixDisplay(confusion_matrix=cm2, display_labels=target_names)\n",
        "disp.plot(cmap=plt.cm.Blues)\n",
        "plt.title(\"Confusion Matrix\")\n",
        "plt.show()"
      ],
      "metadata": {
        "id": "1OElj2_dXC5-",
        "colab": {
          "base_uri": "https://localhost:8080/",
          "height": 472
        },
        "outputId": "4defb73f-485b-4ea7-8bf0-acfd21fcfd44"
      },
      "execution_count": null,
      "outputs": [
        {
          "output_type": "display_data",
          "data": {
            "text/plain": [
              "<Figure size 640x480 with 2 Axes>"
            ],
            "image/png": "[encoded data removed]"
          },
          "metadata": {}
        }
      ]
    },
    {
      "cell_type": "code",
      "execution_count": null,
      "metadata": {
        "id": "exT8yC1gjp8o",
        "colab": {
          "base_uri": "https://localhost:8080/"
        },
        "outputId": "b317ea33-cc5d-4d98-e2c7-3f43e50eb1af"
      },
      "outputs": [
        {
          "output_type": "execute_result",
          "data": {
            "text/plain": [
              "['/content/drive/MyDrive/sentiment_project/lr_model_bert_chi2.joblib']"
            ]
          },
          "metadata": {},
          "execution_count": 17
        }
      ],
      "source": [
        "joblib.dump(lr_model, '/content/drive/MyDrive/sentiment_project/lr_model_bert_chi2.joblib')"
      ]
    },
    {
      "cell_type": "code",
      "source": [
        "print(\"Model: Multinomial Naive Bayes (on chi²-selected TF-IDF features)\")\n",
        "\n",
        "from sklearn.naive_bayes import MultinomialNB\n",
        "from sklearn.metrics import accuracy_score, f1_score, classification_report\n",
        "from sklearn.model_selection import cross_val_score, StratifiedKFold\n",
        "import time\n",
        "\n",
        "target_names = ['negative', 'neutral', 'positive']\n",
        "\n",
        "mnb_model = MultinomialNB()\n",
        "\n",
        "\n",
        "start_time = time.time()\n",
        "mnb_model.fit(X_train_selected, y_train)\n",
        "train_time = time.time() - start_time\n",
        "print(f\"Training took {train_time:.2f} seconds\")\n",
        "\n",
        "y_pred_mnb = mnb_model.predict(X_test_selected)\n",
        "\n",
        "acc = accuracy_score(y_test, y_pred_mnb)\n",
        "f1 = f1_score(y_test, y_pred_mnb, average='macro')\n",
        "print(f\"Accuracy: {acc:.4f}\")\n",
        "print(f\"F1 Score (macro): {f1:.4f}\")\n",
        "print(f\"Classification Report:\\n{classification_report(y_test, y_pred_mnb, target_names=target_names)}\")\n",
        "\n",
        "\n",
        "cv_scores = cross_val_score(\n",
        "    mnb_model,\n",
        "    X_train_selected,\n",
        "    y_train,\n",
        "    cv=StratifiedKFold(5),\n",
        "    scoring='f1_macro',\n",
        "    n_jobs=-1\n",
        ")\n",
        "print(\"Cross-validation (5 folds) on training data:\")\n",
        "print(f\"Mean CV F1 Score: {cv_scores.mean():.4f} (+/- {cv_scores.std():.4f})\")"
      ],
      "metadata": {
        "id": "43Plp6Bg0hlE",
        "outputId": "cb735e7e-1faa-4c2a-abcc-ecb74cb3f0c2",
        "colab": {
          "base_uri": "https://localhost:8080/"
        }
      },
      "execution_count": null,
      "outputs": [
        {
          "output_type": "stream",
          "name": "stdout",
          "text": [
            "Model: Multinomial Naive Bayes (on chi²-selected TF-IDF features)\n",
            "Training took 0.09 seconds\n",
            "Accuracy: 0.7904\n",
            "F1 Score (macro): 0.6308\n",
            "Classification Report:\n",
            "              precision    recall  f1-score   support\n",
            "\n",
            "    negative       0.88      0.56      0.69      2321\n",
            "     neutral       0.82      0.21      0.34      1244\n",
            "    positive       0.77      0.98      0.87      6428\n",
            "\n",
            "    accuracy                           0.79      9993\n",
            "   macro avg       0.82      0.59      0.63      9993\n",
            "weighted avg       0.80      0.79      0.76      9993\n",
            "\n",
            "Cross-validation (5 folds) on training data:\n",
            "Mean CV F1 Score: 0.6340 (+/- 0.0035)\n"
          ]
        }
      ]
    },
    {
      "cell_type": "code",
      "source": [
        "cm_mnb = confusion_matrix(y_test, y_pred_mnb)\n",
        "\n",
        "# Display the confusion matrix with class labels\n",
        "disp = ConfusionMatrixDisplay(confusion_matrix=cm_mnb, display_labels=target_names)\n",
        "disp.plot(cmap=plt.cm.Blues)\n",
        "\n",
        "plt.title(\"Confusion Matrix - Multinomial Naive Bayes\")\n",
        "plt.show()"
      ],
      "metadata": {
        "id": "4i0HcIKt0oqX",
        "outputId": "cc414a8b-aba8-43e8-cf66-c7c22a5705f1",
        "colab": {
          "base_uri": "https://localhost:8080/",
          "height": 472
        }
      },
      "execution_count": null,
      "outputs": [
        {
          "output_type": "display_data",
          "data": {
            "text/plain": [
              "<Figure size 640x480 with 2 Axes>"
            ],
            "image/png": "[encoded data removed]"
          },
          "metadata": {}
        }
      ]
    },
    {
      "cell_type": "code",
      "source": [
        "joblib.dump(mnb_model, '/content/drive/MyDrive/sentiment_project/mnb_model_bert_chi2.joblib')"
      ],
      "metadata": {
        "id": "PEtHTbHA0ot1",
        "outputId": "1d617f11-1132-47e8-cbdc-a797524b4d12",
        "colab": {
          "base_uri": "https://localhost:8080/"
        }
      },
      "execution_count": null,
      "outputs": [
        {
          "output_type": "execute_result",
          "data": {
            "text/plain": [
              "['/content/drive/MyDrive/sentiment_project/mnb_model_bert_chi2.joblib']"
            ]
          },
          "metadata": {},
          "execution_count": 27
        }
      ]
    },
    {
      "cell_type": "markdown",
      "source": [
        "**Vectorization TF-IDF Selection par ACP**"
      ],
      "metadata": {
        "id": "6B5fIwTD0pAq"
      }
    },
    {
      "cell_type": "code",
      "source": [
        "from sklearn.decomposition import TruncatedSVD\n",
        "\n",
        "svd = TruncatedSVD(n_components=100, random_state=42)\n",
        "X_train_reduced = svd.fit_transform(X_train_vec)\n",
        "X_test_reduced = svd.transform(X_test_vec)"
      ],
      "metadata": {
        "id": "me6tDRJE0t37"
      },
      "execution_count": null,
      "outputs": []
    },
    {
      "cell_type": "code",
      "source": [
        "from sklearn.svm import LinearSVC\n",
        "from sklearn.metrics import accuracy_score, f1_score, classification_report\n",
        "from sklearn.model_selection import cross_val_score, StratifiedKFold\n",
        "import time\n",
        "\n",
        "print(\"Model: LinearSVC with Class Weight Balancing\")\n",
        "\n",
        "target_names = ['negative', 'neutral', 'positive']\n",
        "\n",
        "svm_model = LinearSVC(class_weight='balanced', random_state=42, max_iter=5000)\n",
        "\n",
        "start_time = time.time()\n",
        "svm_model.fit(X_train_reduced, y_train)\n",
        "train_time = time.time() - start_time\n",
        "\n",
        "print(f\"Training took {train_time/60:.2f} minutes\")\n",
        "\n",
        "y_pred_svm = svm_model.predict(X_test_reduced)\n",
        "\n",
        "acc = accuracy_score(y_test, y_pred_svm)\n",
        "f1 = f1_score(y_test, y_pred_svm, average='macro')\n",
        "\n",
        "print(f\"Accuracy: {acc:.4f}\")\n",
        "print(f\"F1 Score (macro): {f1:.4f}\")\n",
        "print(f\"Classification Report:\\n{classification_report(y_test, y_pred_svm, target_names=target_names)}\")\n",
        "\n",
        "# Cross-validation (5 folds)\n",
        "cv_scores = cross_val_score(svm_model, X_train_reduced, y_train, cv=StratifiedKFold(5), scoring='f1_macro', n_jobs=-1)\n",
        "print(\"Cross-validation (5 folds) on training data:\")\n",
        "print(f\"Mean CV F1 Score: {cv_scores.mean():.4f} (+/- {cv_scores.std():.4f})\")"
      ],
      "metadata": {
        "id": "qIWFyn4D003-",
        "outputId": "6a395fc5-974d-48e1-e4d4-18590fe1dd1c",
        "colab": {
          "base_uri": "https://localhost:8080/"
        }
      },
      "execution_count": null,
      "outputs": [
        {
          "output_type": "stream",
          "name": "stdout",
          "text": [
            "Model: LinearSVC with Class Weight Balancing\n",
            "Training took 0.09 minutes\n",
            "Accuracy: 0.8026\n",
            "F1 Score (macro): 0.7015\n",
            "Classification Report:\n",
            "              precision    recall  f1-score   support\n",
            "\n",
            "    negative       0.65      0.83      0.73      2321\n",
            "     neutral       0.66      0.39      0.49      1244\n",
            "    positive       0.89      0.87      0.88      6428\n",
            "\n",
            "    accuracy                           0.80      9993\n",
            "   macro avg       0.73      0.70      0.70      9993\n",
            "weighted avg       0.81      0.80      0.80      9993\n",
            "\n",
            "Cross-validation (5 folds) on training data:\n",
            "Mean CV F1 Score: 0.6895 (+/- 0.0038)\n"
          ]
        }
      ]
    },
    {
      "cell_type": "code",
      "source": [
        "cm = confusion_matrix(y_test, y_pred_svm)\n",
        "\n",
        "# Display the confusion matrix with labels\n",
        "disp = ConfusionMatrixDisplay(confusion_matrix=cm, display_labels=target_names)\n",
        "disp.plot(cmap=plt.cm.Blues)\n",
        "plt.title(\"Confusion Matrix\")\n",
        "plt.show()"
      ],
      "metadata": {
        "id": "nrvFuger06fA",
        "outputId": "bb4a5e0b-da1c-4471-8ea1-bb2e109eced4",
        "colab": {
          "base_uri": "https://localhost:8080/",
          "height": 472
        }
      },
      "execution_count": null,
      "outputs": [
        {
          "output_type": "display_data",
          "data": {
            "text/plain": [
              "<Figure size 640x480 with 2 Axes>"
            ],
            "image/png": "[encoded data removed]"
          },
          "metadata": {}
        }
      ]
    },
    {
      "cell_type": "code",
      "source": [
        "joblib.dump(svm_model, '/content/drive/MyDrive/sentiment_project/svm_model_bert_acp.joblib')"
      ],
      "metadata": {
        "id": "SZXk4EPs1ZuW",
        "outputId": "58f2ae3d-1abc-4499-d5c3-19adb63d747c",
        "colab": {
          "base_uri": "https://localhost:8080/"
        }
      },
      "execution_count": null,
      "outputs": [
        {
          "output_type": "execute_result",
          "data": {
            "text/plain": [
              "['/content/drive/MyDrive/sentiment_project/svm_model_bert_acp.joblib']"
            ]
          },
          "metadata": {},
          "execution_count": 21
        }
      ]
    },
    {
      "cell_type": "code",
      "source": [
        "print(\"Model: Logistic Regression with Class Weight Balancing (on SVD-reduced TF-IDF)\")\n",
        "\n",
        "# Define class labels (make sure this matches your label encoding)\n",
        "target_names = ['negative', 'neutral', 'positive']\n",
        "\n",
        "# Create the model\n",
        "lr_model = LogisticRegression(\n",
        "    max_iter=1000,\n",
        "    random_state=42,\n",
        "    class_weight='balanced',\n",
        "    solver='saga',     # good for large sparse data & supports regularization\n",
        "    n_jobs=-1          # utilize all CPUs\n",
        ")\n",
        "\n",
        "# Train and time it\n",
        "start_time = time.time()\n",
        "lr_model.fit(X_train_reduced, y_train)\n",
        "train_time = time.time() - start_time\n",
        "print(f\"Training took {train_time / 60:.2f} minutes\")\n",
        "\n",
        "# Predict\n",
        "y_pred_lr = lr_model.predict(X_test_reduced)\n",
        "\n",
        "# Evaluate\n",
        "acc = accuracy_score(y_test, y_pred_lr)\n",
        "f1 = f1_score(y_test, y_pred_lr, average='macro')\n",
        "print(f\"Accuracy: {acc:.4f}\")\n",
        "print(f\"F1 Score (macro): {f1:.4f}\")\n",
        "print(f\"Classification Report:\\n{classification_report(y_test, y_pred_lr, target_names=target_names)}\")\n",
        "\n",
        "# Cross-validation\n",
        "cv_scores = cross_val_score(\n",
        "    lr_model,\n",
        "    X_train_reduced,\n",
        "    y_train,\n",
        "    cv=StratifiedKFold(5),\n",
        "    scoring='f1_macro',\n",
        "    n_jobs=-1\n",
        ")\n",
        "print(\"Cross-validation (5 folds) on training data:\")\n",
        "print(f\"Mean CV F1 Score: {cv_scores.mean():.4f} (+/- {cv_scores.std():.4f})\")"
      ],
      "metadata": {
        "id": "mE383-Qo1lLq",
        "outputId": "9e8690d2-f29c-4abd-eade-711c4b182d3b",
        "colab": {
          "base_uri": "https://localhost:8080/"
        }
      },
      "execution_count": null,
      "outputs": [
        {
          "output_type": "stream",
          "name": "stdout",
          "text": [
            "Model: Logistic Regression with Class Weight Balancing (on SVD-reduced TF-IDF)\n",
            "Training took 0.08 minutes\n",
            "Accuracy: 0.7526\n",
            "F1 Score (macro): 0.6807\n",
            "Classification Report:\n",
            "              precision    recall  f1-score   support\n",
            "\n",
            "    negative       0.65      0.81      0.72      2321\n",
            "     neutral       0.40      0.60      0.48      1244\n",
            "    positive       0.93      0.76      0.84      6428\n",
            "\n",
            "    accuracy                           0.75      9993\n",
            "   macro avg       0.66      0.72      0.68      9993\n",
            "weighted avg       0.80      0.75      0.77      9993\n",
            "\n",
            "Cross-validation (5 folds) on training data:\n",
            "Mean CV F1 Score: 0.6716 (+/- 0.0042)\n"
          ]
        }
      ]
    },
    {
      "cell_type": "code",
      "source": [
        "cm2 = confusion_matrix(y_test, y_pred_lr)\n",
        "\n",
        "# Display the confusion matrix with labels\n",
        "disp = ConfusionMatrixDisplay(confusion_matrix=cm2, display_labels=target_names)\n",
        "disp.plot(cmap=plt.cm.Blues)\n",
        "plt.title(\"Confusion Matrix\")\n",
        "plt.show()"
      ],
      "metadata": {
        "id": "fyDOSawD13r9",
        "outputId": "38c9d59f-18b0-447c-a344-79aa51c4562c",
        "colab": {
          "base_uri": "https://localhost:8080/",
          "height": 472
        }
      },
      "execution_count": null,
      "outputs": [
        {
          "output_type": "display_data",
          "data": {
            "text/plain": [
              "<Figure size 640x480 with 2 Axes>"
            ],
            "image/png": "[encoded data removed]"
          },
          "metadata": {}
        }
      ]
    },
    {
      "cell_type": "code",
      "source": [
        "joblib.dump(svm_model, '/content/drive/MyDrive/sentiment_project/lr_model_bert_acp.joblib')"
      ],
      "metadata": {
        "id": "ZLpXoG0H2AIW",
        "outputId": "e6f4004b-e016-4f5a-cc39-e13dcd3936c9",
        "colab": {
          "base_uri": "https://localhost:8080/"
        }
      },
      "execution_count": null,
      "outputs": [
        {
          "output_type": "execute_result",
          "data": {
            "text/plain": [
              "['/content/drive/MyDrive/sentiment_project/lr_model_bert_acp.joblib']"
            ]
          },
          "metadata": {},
          "execution_count": 24
        }
      ]
    },
    {
      "cell_type": "code",
      "source": [
        "print(\"Model: Multinomial Naive Bayes (on SVD-reduced TF-IDF)\")\n",
        "\n",
        "from sklearn.naive_bayes import MultinomialNB\n",
        "from sklearn.metrics import accuracy_score, f1_score, classification_report\n",
        "from sklearn.model_selection import cross_val_score, StratifiedKFold\n",
        "import time\n",
        "\n",
        "target_names = ['negative', 'neutral', 'positive']\n",
        "\n",
        "mnb_model_svd = MultinomialNB()\n",
        "\n",
        "start_time = time.time()\n",
        "mnb_model_svd.fit(X_train_reduced, y_train)\n",
        "train_time = time.time() - start_time\n",
        "print(f\"Training took {train_time:.2f} seconds\")\n",
        "\n",
        "y_pred_mnb_svd = mnb_model_svd.predict(X_test_reduced)\n",
        "\n",
        "acc = accuracy_score(y_test, y_pred_mnb_svd)\n",
        "f1 = f1_score(y_test, y_pred_mnb_svd, average='macro')\n",
        "print(f\"Accuracy: {acc:.4f}\")\n",
        "print(f\"F1 Score (macro): {f1:.4f}\")\n",
        "print(f\"Classification Report:\\n{classification_report(y_test, y_pred_mnb_svd, target_names=target_names)}\")\n",
        "\n",
        "cv_scores = cross_val_score(\n",
        "    mnb_model_svd,\n",
        "    X_train_reduced,\n",
        "    y_train,\n",
        "    cv=StratifiedKFold(5),\n",
        "    scoring='f1_macro',\n",
        "    n_jobs=-1\n",
        ")\n",
        "print(\"Cross-validation (5 folds) on training data:\")\n",
        "print(f\"Mean CV F1 Score: {cv_scores.mean():.4f} (+/- {cv_scores.std():.4f})\")"
      ],
      "metadata": {
        "id": "807S7Q9J3nIO",
        "outputId": "2fe7bbb2-4ae8-4348-915a-538d251eeec1",
        "colab": {
          "base_uri": "https://localhost:8080/",
          "height": 373
        },
        "collapsed": true
      },
      "execution_count": null,
      "outputs": [
        {
          "output_type": "stream",
          "name": "stdout",
          "text": [
            "Model: Multinomial Naive Bayes (on SVD-reduced TF-IDF)\n"
          ]
        },
        {
          "output_type": "error",
          "ename": "ValueError",
          "evalue": "Negative values in data passed to MultinomialNB (input X).",
          "traceback": [
            "\u001b[0;31m---------------------------------------------------------------------------\u001b[0m",
            "\u001b[0;31mValueError\u001b[0m                                Traceback (most recent call last)",
            "\u001b[0;32m<ipython-input-28-809766fe2f39>\u001b[0m in \u001b[0;36m<cell line: 0>\u001b[0;34m()\u001b[0m\n\u001b[1;32m     11\u001b[0m \u001b[0;34m\u001b[0m\u001b[0m\n\u001b[1;32m     12\u001b[0m \u001b[0mstart_time\u001b[0m \u001b[0;34m=\u001b[0m \u001b[0mtime\u001b[0m\u001b[0;34m.\u001b[0m\u001b[0mtime\u001b[0m\u001b[0;34m(\u001b[0m\u001b[0;34m)\u001b[0m\u001b[0;34m\u001b[0m\u001b[0;34m\u001b[0m\u001b[0m\n\u001b[0;32m---> 13\u001b[0;31m \u001b[0mmnb_model_svd\u001b[0m\u001b[0;34m.\u001b[0m\u001b[0mfit\u001b[0m\u001b[0;34m(\u001b[0m\u001b[0mX_train_reduced\u001b[0m\u001b[0;34m,\u001b[0m \u001b[0my_train\u001b[0m\u001b[0;34m)\u001b[0m\u001b[0;34m\u001b[0m\u001b[0;34m\u001b[0m\u001b[0m\n\u001b[0m\u001b[1;32m     14\u001b[0m \u001b[0mtrain_time\u001b[0m \u001b[0;34m=\u001b[0m \u001b[0mtime\u001b[0m\u001b[0;34m.\u001b[0m\u001b[0mtime\u001b[0m\u001b[0;34m(\u001b[0m\u001b[0;34m)\u001b[0m \u001b[0;34m-\u001b[0m \u001b[0mstart_time\u001b[0m\u001b[0;34m\u001b[0m\u001b[0;34m\u001b[0m\u001b[0m\n\u001b[1;32m     15\u001b[0m \u001b[0mprint\u001b[0m\u001b[0;34m(\u001b[0m\u001b[0;34mf\"Training took {train_time:.2f} seconds\"\u001b[0m\u001b[0;34m)\u001b[0m\u001b[0;34m\u001b[0m\u001b[0;34m\u001b[0m\u001b[0m\n",
            "\u001b[0;32m/usr/local/lib/python3.11/dist-packages/sklearn/base.py\u001b[0m in \u001b[0;36mwrapper\u001b[0;34m(estimator, *args, **kwargs)\u001b[0m\n\u001b[1;32m   1387\u001b[0m                 )\n\u001b[1;32m   1388\u001b[0m             ):\n\u001b[0;32m-> 1389\u001b[0;31m                 \u001b[0;32mreturn\u001b[0m \u001b[0mfit_method\u001b[0m\u001b[0;34m(\u001b[0m\u001b[0mestimator\u001b[0m\u001b[0;34m,\u001b[0m \u001b[0;34m*\u001b[0m\u001b[0margs\u001b[0m\u001b[0;34m,\u001b[0m \u001b[0;34m**\u001b[0m\u001b[0mkwargs\u001b[0m\u001b[0;34m)\u001b[0m\u001b[0;34m\u001b[0m\u001b[0;34m\u001b[0m\u001b[0m\n\u001b[0m\u001b[1;32m   1390\u001b[0m \u001b[0;34m\u001b[0m\u001b[0m\n\u001b[1;32m   1391\u001b[0m         \u001b[0;32mreturn\u001b[0m \u001b[0mwrapper\u001b[0m\u001b[0;34m\u001b[0m\u001b[0;34m\u001b[0m\u001b[0m\n",
            "\u001b[0;32m/usr/local/lib/python3.11/dist-packages/sklearn/naive_bayes.py\u001b[0m in \u001b[0;36mfit\u001b[0;34m(self, X, y, sample_weight)\u001b[0m\n\u001b[1;32m    760\u001b[0m         \u001b[0mn_classes\u001b[0m \u001b[0;34m=\u001b[0m \u001b[0mY\u001b[0m\u001b[0;34m.\u001b[0m\u001b[0mshape\u001b[0m\u001b[0;34m[\u001b[0m\u001b[0;36m1\u001b[0m\u001b[0;34m]\u001b[0m\u001b[0;34m\u001b[0m\u001b[0;34m\u001b[0m\u001b[0m\n\u001b[1;32m    761\u001b[0m         \u001b[0mself\u001b[0m\u001b[0;34m.\u001b[0m\u001b[0m_init_counters\u001b[0m\u001b[0;34m(\u001b[0m\u001b[0mn_classes\u001b[0m\u001b[0;34m,\u001b[0m \u001b[0mn_features\u001b[0m\u001b[0;34m)\u001b[0m\u001b[0;34m\u001b[0m\u001b[0;34m\u001b[0m\u001b[0m\n\u001b[0;32m--> 762\u001b[0;31m         \u001b[0mself\u001b[0m\u001b[0;34m.\u001b[0m\u001b[0m_count\u001b[0m\u001b[0;34m(\u001b[0m\u001b[0mX\u001b[0m\u001b[0;34m,\u001b[0m \u001b[0mY\u001b[0m\u001b[0;34m)\u001b[0m\u001b[0;34m\u001b[0m\u001b[0;34m\u001b[0m\u001b[0m\n\u001b[0m\u001b[1;32m    763\u001b[0m         \u001b[0malpha\u001b[0m \u001b[0;34m=\u001b[0m \u001b[0mself\u001b[0m\u001b[0;34m.\u001b[0m\u001b[0m_check_alpha\u001b[0m\u001b[0;34m(\u001b[0m\u001b[0;34m)\u001b[0m\u001b[0;34m\u001b[0m\u001b[0;34m\u001b[0m\u001b[0m\n\u001b[1;32m    764\u001b[0m         \u001b[0mself\u001b[0m\u001b[0;34m.\u001b[0m\u001b[0m_update_feature_log_prob\u001b[0m\u001b[0;34m(\u001b[0m\u001b[0malpha\u001b[0m\u001b[0;34m)\u001b[0m\u001b[0;34m\u001b[0m\u001b[0;34m\u001b[0m\u001b[0m\n",
            "\u001b[0;32m/usr/local/lib/python3.11/dist-packages/sklearn/naive_bayes.py\u001b[0m in \u001b[0;36m_count\u001b[0;34m(self, X, Y)\u001b[0m\n\u001b[1;32m    887\u001b[0m     \u001b[0;32mdef\u001b[0m \u001b[0m_count\u001b[0m\u001b[0;34m(\u001b[0m\u001b[0mself\u001b[0m\u001b[0;34m,\u001b[0m \u001b[0mX\u001b[0m\u001b[0;34m,\u001b[0m \u001b[0mY\u001b[0m\u001b[0;34m)\u001b[0m\u001b[0;34m:\u001b[0m\u001b[0;34m\u001b[0m\u001b[0;34m\u001b[0m\u001b[0m\n\u001b[1;32m    888\u001b[0m         \u001b[0;34m\"\"\"Count and smooth feature occurrences.\"\"\"\u001b[0m\u001b[0;34m\u001b[0m\u001b[0;34m\u001b[0m\u001b[0m\n\u001b[0;32m--> 889\u001b[0;31m         \u001b[0mcheck_non_negative\u001b[0m\u001b[0;34m(\u001b[0m\u001b[0mX\u001b[0m\u001b[0;34m,\u001b[0m \u001b[0;34m\"MultinomialNB (input X)\"\u001b[0m\u001b[0;34m)\u001b[0m\u001b[0;34m\u001b[0m\u001b[0;34m\u001b[0m\u001b[0m\n\u001b[0m\u001b[1;32m    890\u001b[0m         \u001b[0mself\u001b[0m\u001b[0;34m.\u001b[0m\u001b[0mfeature_count_\u001b[0m \u001b[0;34m+=\u001b[0m \u001b[0msafe_sparse_dot\u001b[0m\u001b[0;34m(\u001b[0m\u001b[0mY\u001b[0m\u001b[0;34m.\u001b[0m\u001b[0mT\u001b[0m\u001b[0;34m,\u001b[0m \u001b[0mX\u001b[0m\u001b[0;34m)\u001b[0m\u001b[0;34m\u001b[0m\u001b[0;34m\u001b[0m\u001b[0m\n\u001b[1;32m    891\u001b[0m         \u001b[0mself\u001b[0m\u001b[0;34m.\u001b[0m\u001b[0mclass_count_\u001b[0m \u001b[0;34m+=\u001b[0m \u001b[0mY\u001b[0m\u001b[0;34m.\u001b[0m\u001b[0msum\u001b[0m\u001b[0;34m(\u001b[0m\u001b[0maxis\u001b[0m\u001b[0;34m=\u001b[0m\u001b[0;36m0\u001b[0m\u001b[0;34m)\u001b[0m\u001b[0;34m\u001b[0m\u001b[0;34m\u001b[0m\u001b[0m\n",
            "\u001b[0;32m/usr/local/lib/python3.11/dist-packages/sklearn/utils/validation.py\u001b[0m in \u001b[0;36mcheck_non_negative\u001b[0;34m(X, whom)\u001b[0m\n\u001b[1;32m   1825\u001b[0m \u001b[0;34m\u001b[0m\u001b[0m\n\u001b[1;32m   1826\u001b[0m     \u001b[0;32mif\u001b[0m \u001b[0mX_min\u001b[0m \u001b[0;34m<\u001b[0m \u001b[0;36m0\u001b[0m\u001b[0;34m:\u001b[0m\u001b[0;34m\u001b[0m\u001b[0;34m\u001b[0m\u001b[0m\n\u001b[0;32m-> 1827\u001b[0;31m         \u001b[0;32mraise\u001b[0m \u001b[0mValueError\u001b[0m\u001b[0;34m(\u001b[0m\u001b[0;34mf\"Negative values in data passed to {whom}.\"\u001b[0m\u001b[0;34m)\u001b[0m\u001b[0;34m\u001b[0m\u001b[0;34m\u001b[0m\u001b[0m\n\u001b[0m\u001b[1;32m   1828\u001b[0m \u001b[0;34m\u001b[0m\u001b[0m\n\u001b[1;32m   1829\u001b[0m \u001b[0;34m\u001b[0m\u001b[0m\n",
            "\u001b[0;31mValueError\u001b[0m: Negative values in data passed to MultinomialNB (input X)."
          ]
        }
      ]
    },
    {
      "cell_type": "code",
      "source": [],
      "metadata": {
        "id": "4grzLvd6TlQB"
      },
      "execution_count": null,
      "outputs": []
    },
    {
      "cell_type": "markdown",
      "source": [
        "***Pipelines***"
      ],
      "metadata": {
        "id": "J1lLh3sVde0K"
      }
    },
    {
      "cell_type": "code",
      "source": [
        "pipeline = Pipeline([\n",
        "    ('tfidf', TfidfVectorizer(stop_words='english')),\n",
        "    ('chi2', SelectKBest(score_func=chi2)),\n",
        "    ('clf', LinearSVC())\n",
        "])\n",
        "\n",
        "pipeline_chi2 = Pipeline([\n",
        "    ('tfidf', TfidfVectorizer(stop_words='english')),\n",
        "    ('chi2', SelectKBest(score_func=chi2, k=300)),\n",
        "    ('clf', LinearSVC())\n",
        "])\n",
        "\n",
        "pipeline_svd = Pipeline([\n",
        "    ('tfidf', TfidfVectorizer(stop_words='english')),\n",
        "    ('svd', TruncatedSVD(n_components=100, random_state=42)),\n",
        "    ('clf', LinearSVC())\n",
        "])"
      ],
      "metadata": {
        "id": "1WuGOalvVS2p"
      },
      "execution_count": 12,
      "outputs": []
    },
    {
      "cell_type": "code",
      "source": [
        "param_grid = [\n",
        "    {\n",
        "        'tfidf__max_features': [4000, 5000],\n",
        "        'tfidf__ngram_range': [(1, 1), (1, 2)],\n",
        "        'chi2__k': [200, 3000],\n",
        "        'clf': [LinearSVC(max_iter=3000)],\n",
        "        'clf__C': [1, 10]\n",
        "    },\n",
        "    {\n",
        "        'tfidf__max_features': [4000, 5000],\n",
        "        'tfidf__ngram_range': [(1, 1), (1, 2)],\n",
        "        'chi2__k': [200, 3000],\n",
        "        'clf': [LogisticRegression(max_iter=3000)],\n",
        "        'clf__C': [1, 10]\n",
        "    },\n",
        "    {\n",
        "        'tfidf__max_features': [4000, 5000],\n",
        "        'tfidf__ngram_range': [(1, 1), (1, 2)],\n",
        "        'chi2__k': [200, 3000],\n",
        "        'clf': [MultinomialNB()]\n",
        "        # No 'clf__C' here because MultinomialNB does not have C\n",
        "    }\n",
        "]\n",
        "\n",
        "f1_scorer = make_scorer(f1_score, average='macro')\n",
        "start_time = time.time()\n",
        "grid = GridSearchCV(pipeline, param_grid, cv=5, scoring=f1_scorer, n_jobs=-1)\n",
        "grid.fit(X_train, y_train)\n",
        "train_time = time.time() - start_time\n",
        "print(f\"\\nGridSearch training took {train_time:.2f} seconds\")\n",
        "\n",
        "y_pred = grid.predict(X_test)\n",
        "\n",
        "print(\"\\nBest parameters:\")\n",
        "for param_name in grid.best_params_:\n",
        "    print(f\"{param_name}: {grid.best_params_[param_name]}\")\n",
        "print(f\"Best CV F1 Score (macro): {grid.best_score_:.4f}\")\n",
        "\n",
        "# Evaluation on test set\n",
        "print(\"\\nTest Set Evaluation:\")\n",
        "print(f\"Accuracy: {accuracy_score(y_test, y_pred):.4f}\")\n",
        "print(f\"F1 Score (macro): {f1_score(y_test, y_pred, average='macro'):.4f}\")\n",
        "print(\"Classification Report:\")\n",
        "print(classification_report(y_test, y_pred, target_names=['negative', 'neutral', 'positive']))\n",
        "print(\"Confusion Matrix:\")\n",
        "print(confusion_matrix(y_test, y_pred))\n",
        "\n",
        "# CV on best model (optional but useful)\n",
        "cv_scores = cross_val_score(grid.best_estimator_, X_train, y_train, cv=StratifiedKFold(5), scoring='f1_macro', n_jobs=-1)\n",
        "print(\"\\nCross-validation (5 folds) on training data:\")\n",
        "print(f\"Mean CV F1 Score: {cv_scores.mean():.4f} (+/- {cv_scores.std():.4f})\")\n",
        "# print(\"Best max_features (TF-IDF):\", grid.best_params_['tfidf__max_features'])\n",
        "# print(\"Best ngram_range (TF-IDF):\", grid.best_params_['tfidf__ngram_range'])\n",
        "# print(\"Best k (SelectKBest):\", grid.best_params_['chi2__k'])\n",
        "# print(\"Best C (LinearSVC):\", grid.best_params_['clf__C'])\n",
        "# print(\"Best parameters (F1 score):\", grid.best_score_)\n",
        "# print(\"Test F1 Score (macro):\", f1_score(y_test, y_pred, average='macro'))\n",
        "# print(\"Confusion Matrix:\\n\", confusion_matrix(y_test, y_pred))"
      ],
      "metadata": {
        "colab": {
          "base_uri": "https://localhost:8080/"
        },
        "id": "VRVjuv3ETlSt",
        "outputId": "b16255f3-f411-4223-a616-2a2c2993c9e2"
      },
      "execution_count": 14,
      "outputs": [
        {
          "output_type": "stream",
          "name": "stderr",
          "text": [
            "/usr/local/lib/python3.11/dist-packages/sklearn/model_selection/_search.py:1108: UserWarning: One or more of the test scores are non-finite: [nan nan nan nan nan nan nan nan nan nan nan nan nan nan nan nan nan nan\n",
            " nan nan nan nan nan nan nan nan nan nan nan nan nan nan nan nan nan nan\n",
            " nan nan nan nan]\n",
            "  warnings.warn(\n"
          ]
        },
        {
          "output_type": "stream",
          "name": "stdout",
          "text": [
            "\n",
            "GridSearch training took 1014.59 seconds\n",
            "\n",
            "Best parameters:\n",
            "chi2__k: 200\n",
            "clf: LinearSVC(max_iter=3000)\n",
            "clf__C: 1\n",
            "tfidf__max_features: 4000\n",
            "tfidf__ngram_range: (1, 1)\n",
            "Best CV F1 Score (macro): nan\n",
            "\n",
            "Test Set Evaluation:\n",
            "Accuracy: 0.8164\n",
            "F1 Score (macro): 0.6815\n",
            "Classification Report:\n",
            "              precision    recall  f1-score   support\n",
            "\n",
            "    negative       0.78      0.73      0.76      4727\n",
            "     neutral       0.76      0.27      0.40      2487\n",
            "    positive       0.83      0.95      0.89     12786\n",
            "\n",
            "    accuracy                           0.82     20000\n",
            "   macro avg       0.79      0.65      0.68     20000\n",
            "weighted avg       0.81      0.82      0.80     20000\n",
            "\n",
            "Confusion Matrix:\n",
            "[[ 3457    78  1192]\n",
            " [  500   676  1311]\n",
            " [  461   131 12194]]\n",
            "\n",
            "Cross-validation (5 folds) on training data:\n",
            "Mean CV F1 Score: 0.6819 (+/- 0.0027)\n"
          ]
        }
      ]
    },
    {
      "cell_type": "code",
      "source": [
        "import joblib\n",
        "joblib.dump(grid.best_estimator_, '/content/drive/MyDrive/sentiment_project/svm_model_pipeline_chi2_default.joblib')"
      ],
      "metadata": {
        "colab": {
          "base_uri": "https://localhost:8080/"
        },
        "id": "vYF251TsTlVS",
        "outputId": "28c2e274-155e-470c-c01d-3a9d20f14e97"
      },
      "execution_count": 19,
      "outputs": [
        {
          "output_type": "execute_result",
          "data": {
            "text/plain": [
              "['/content/drive/MyDrive/sentiment_project/svm_model_pipeline_chi2_default.joblib']"
            ]
          },
          "metadata": {},
          "execution_count": 19
        }
      ]
    },
    {
      "cell_type": "code",
      "source": [
        "def run_grid_search_and_evaluate(pipeline, param_grid, X_train, y_train, X_test, y_test, target_names=None):\n",
        "    f1_scorer = make_scorer(f1_score, average='macro', zero_division=0)\n",
        "\n",
        "    print(\"Starting GridSearchCV...\")\n",
        "    start_time = time.time()\n",
        "    cv = StratifiedKFold(n_splits=5, shuffle=True, random_state=42)\n",
        "    grid = GridSearchCV(pipeline, param_grid, cv=cv, scoring=f1_scorer, n_jobs=-1)\n",
        "    grid.fit(X_train, y_train)\n",
        "    train_time = time.time() - start_time\n",
        "    print(f\"\\nGridSearch training took {train_time:.2f} seconds\")\n",
        "\n",
        "    y_pred = grid.predict(X_test)\n",
        "\n",
        "    print(\"\\nBest parameters:\")\n",
        "    for param_name, param_value in grid.best_params_.items():\n",
        "        print(f\"{param_name}: {param_value}\")\n",
        "\n",
        "    print(f\"Best CV F1 Score (macro): {grid.best_score_:.4f}\")\n",
        "\n",
        "    print(\"\\nTest Set Evaluation:\")\n",
        "    print(f\"Accuracy: {accuracy_score(y_test, y_pred):.4f}\")\n",
        "    print(f\"F1 Score (macro): {f1_score(y_test, y_pred, average='macro'):.4f}\")\n",
        "    if target_names:\n",
        "        print(\"Classification Report:\")\n",
        "        print(classification_report(y_test, y_pred, target_names=target_names))\n",
        "    else:\n",
        "        print(\"Classification Report:\")\n",
        "        print(classification_report(y_test, y_pred))\n",
        "\n",
        "    print(\"Confusion Matrix:\")\n",
        "    print(confusion_matrix(y_test, y_pred))\n",
        "\n",
        "    cv_scores = cross_val_score(grid.best_estimator_, X_train, y_train,\n",
        "                                cv=StratifiedKFold(5),\n",
        "                                scoring='f1_macro', n_jobs=-1)\n",
        "    print(\"\\nCross-validation (5 folds) on training data:\")\n",
        "    print(f\"Mean CV F1 Score: {cv_scores.mean():.4f} (+/- {cv_scores.std():.4f})\")\n",
        "\n",
        "    return grid\n"
      ],
      "metadata": {
        "id": "DshWOGQwTlYs"
      },
      "execution_count": 41,
      "outputs": []
    },
    {
      "cell_type": "code",
      "source": [
        "param_grid = [\n",
        "    {\n",
        "        'tfidf__max_features': [4000, 5000],\n",
        "        'tfidf__ngram_range': [(1, 1), (1, 2)],\n",
        "        'chi2__k': [200, 3000],\n",
        "        'clf': [LinearSVC(max_iter=3000)],\n",
        "        'clf__C': [1, 10]\n",
        "    },\n",
        "    {\n",
        "        'tfidf__max_features': [4000, 5000],\n",
        "        'tfidf__ngram_range': [(1, 1), (1, 2)],\n",
        "        'chi2__k': [200, 3000],\n",
        "        'clf': [LogisticRegression(max_iter=3000)],\n",
        "        'clf__C': [1, 10]\n",
        "    },\n",
        "    {\n",
        "        'tfidf__max_features': [4000, 5000],\n",
        "        'tfidf__ngram_range': [(1, 1), (1, 2)],\n",
        "        'chi2__k': [200, 3000],\n",
        "        'clf': [MultinomialNB()]\n",
        "        # No 'clf__C' here because MultinomialNB does not have C\n",
        "    }\n",
        "]\n",
        "param_grid_svd = {\n",
        "    'tfidf__max_features': [4000, 5000],\n",
        "    'tfidf__ngram_range': [(1, 1), (1, 2)],\n",
        "    'svd__n_components': [100, 300],\n",
        "    'clf__C': [1, 10]\n",
        "}\n",
        "\n",
        "target_names = ['negative', 'neutral', 'positive']"
      ],
      "metadata": {
        "id": "cV-liI-CerUC"
      },
      "execution_count": 24,
      "outputs": []
    },
    {
      "cell_type": "code",
      "source": [
        "best_model=run_grid_search_and_evaluate(pipeline_chi2, param_grid, X_train, y_train, X_test, y_test, target_names)"
      ],
      "metadata": {
        "colab": {
          "base_uri": "https://localhost:8080/"
        },
        "id": "Y8Uw-2dBeull",
        "outputId": "aaabdb5b-6f03-4c41-cbaf-6176411cc8ff"
      },
      "execution_count": 21,
      "outputs": [
        {
          "output_type": "stream",
          "name": "stdout",
          "text": [
            "Starting GridSearchCV...\n"
          ]
        },
        {
          "output_type": "stream",
          "name": "stderr",
          "text": [
            "/usr/local/lib/python3.11/dist-packages/sklearn/model_selection/_search.py:1108: UserWarning: One or more of the test scores are non-finite: [nan nan nan nan nan nan nan nan nan nan nan nan nan nan nan nan nan nan\n",
            " nan nan nan nan nan nan nan nan nan nan nan nan nan nan nan nan nan nan\n",
            " nan nan nan nan]\n",
            "  warnings.warn(\n"
          ]
        },
        {
          "output_type": "stream",
          "name": "stdout",
          "text": [
            "\n",
            "GridSearch training took 1015.49 seconds\n",
            "\n",
            "Best parameters:\n",
            "chi2__k: 200\n",
            "clf: LinearSVC(max_iter=3000)\n",
            "clf__C: 1\n",
            "tfidf__max_features: 4000\n",
            "tfidf__ngram_range: (1, 1)\n",
            "Best CV F1 Score (macro): nan\n",
            "\n",
            "Test Set Evaluation:\n",
            "Accuracy: 0.8164\n",
            "F1 Score (macro): 0.6815\n",
            "Classification Report:\n",
            "              precision    recall  f1-score   support\n",
            "\n",
            "    negative       0.78      0.73      0.76      4727\n",
            "     neutral       0.76      0.27      0.40      2487\n",
            "    positive       0.83      0.95      0.89     12786\n",
            "\n",
            "    accuracy                           0.82     20000\n",
            "   macro avg       0.79      0.65      0.68     20000\n",
            "weighted avg       0.81      0.82      0.80     20000\n",
            "\n",
            "Confusion Matrix:\n",
            "[[ 3457    78  1192]\n",
            " [  500   676  1311]\n",
            " [  461   131 12194]]\n",
            "\n",
            "Cross-validation (5 folds) on training data:\n",
            "Mean CV F1 Score: 0.6819 (+/- 0.0027)\n"
          ]
        }
      ]
    },
    {
      "cell_type": "code",
      "source": [
        "joblib.dump(best_model, '/content/drive/MyDrive/sentiment_project/svm_model_pipeline_chi2_300.joblib')"
      ],
      "metadata": {
        "colab": {
          "base_uri": "https://localhost:8080/"
        },
        "id": "7PxdQgaVgbii",
        "outputId": "346c525e-6974-4d3b-a781-c09c245774fd"
      },
      "execution_count": 22,
      "outputs": [
        {
          "output_type": "execute_result",
          "data": {
            "text/plain": [
              "['/content/drive/MyDrive/sentiment_project/svm_model_pipeline_chi2_300.joblib']"
            ]
          },
          "metadata": {},
          "execution_count": 22
        }
      ]
    },
    {
      "cell_type": "code",
      "source": [
        "best_model=run_grid_search_and_evaluate(pipeline_svd, param_grid_svd, X_train, y_train, X_test, y_test, target_names)"
      ],
      "metadata": {
        "colab": {
          "base_uri": "https://localhost:8080/"
        },
        "id": "tXpUd7Gngz3B",
        "outputId": "d80956dc-0987-4de7-f04d-59c721a4d48a"
      },
      "execution_count": 25,
      "outputs": [
        {
          "output_type": "stream",
          "name": "stdout",
          "text": [
            "Starting GridSearchCV...\n"
          ]
        },
        {
          "output_type": "stream",
          "name": "stderr",
          "text": [
            "/usr/local/lib/python3.11/dist-packages/sklearn/model_selection/_search.py:1108: UserWarning: One or more of the test scores are non-finite: [nan nan nan nan nan nan nan nan nan nan nan nan nan nan nan nan]\n",
            "  warnings.warn(\n"
          ]
        },
        {
          "output_type": "stream",
          "name": "stdout",
          "text": [
            "\n",
            "GridSearch training took 1632.36 seconds\n",
            "\n",
            "Best parameters:\n",
            "clf__C: 1\n",
            "svd__n_components: 100\n",
            "tfidf__max_features: 4000\n",
            "tfidf__ngram_range: (1, 1)\n",
            "Best CV F1 Score (macro): nan\n",
            "\n",
            "Test Set Evaluation:\n",
            "Accuracy: 0.8036\n",
            "F1 Score (macro): 0.6625\n",
            "Classification Report:\n",
            "              precision    recall  f1-score   support\n",
            "\n",
            "    negative       0.72      0.76      0.74      4727\n",
            "     neutral       0.81      0.24      0.37      2487\n",
            "    positive       0.83      0.93      0.88     12786\n",
            "\n",
            "    accuracy                           0.80     20000\n",
            "   macro avg       0.79      0.64      0.66     20000\n",
            "weighted avg       0.80      0.80      0.78     20000\n",
            "\n",
            "Confusion Matrix:\n",
            "[[ 3569    42  1116]\n",
            " [  588   598  1301]\n",
            " [  781   100 11905]]\n",
            "\n",
            "Cross-validation (5 folds) on training data:\n",
            "Mean CV F1 Score: 0.6616 (+/- 0.0045)\n"
          ]
        }
      ]
    },
    {
      "cell_type": "code",
      "source": [
        "joblib.dump(best_model, '/content/drive/MyDrive/sentiment_project/svm_model_pipeline_svd.joblib')"
      ],
      "metadata": {
        "colab": {
          "base_uri": "https://localhost:8080/"
        },
        "id": "HiWY92oug5Wu",
        "outputId": "51480505-05f5-4708-a0c6-f8454f920247"
      },
      "execution_count": 26,
      "outputs": [
        {
          "output_type": "execute_result",
          "data": {
            "text/plain": [
              "['/content/drive/MyDrive/sentiment_project/svm_model_pipeline_svd.joblib']"
            ]
          },
          "metadata": {},
          "execution_count": 26
        }
      ]
    },
    {
      "cell_type": "code",
      "source": [
        "print('test')"
      ],
      "metadata": {
        "colab": {
          "base_uri": "https://localhost:8080/"
        },
        "id": "ofmpUJ1_r_K0",
        "outputId": "fbcacd6a-61be-42ff-ca46-fe1f3b543a66"
      },
      "execution_count": 27,
      "outputs": [
        {
          "output_type": "stream",
          "name": "stdout",
          "text": [
            "test\n"
          ]
        }
      ]
    },
    {
      "cell_type": "code",
      "source": [
        "pipeline = Pipeline([\n",
        "    ('tfidf', TfidfVectorizer(stop_words='english')),\n",
        "    ('chi2', SelectKBest(score_func=chi2)),\n",
        "    ('clf', LogisticRegression(max_iter=1000))\n",
        "])\n",
        "\n",
        "pipeline__logreg_chi2 = Pipeline([\n",
        "    ('tfidf', TfidfVectorizer(stop_words='english')),\n",
        "    ('chi2', SelectKBest(score_func=chi2, k=300)),\n",
        "    ('clf', LogisticRegression(max_iter=1000))\n",
        "])\n",
        "pipeline_logreg_svd = Pipeline([\n",
        "    ('tfidf', TfidfVectorizer(stop_words='english')),\n",
        "    ('svd', TruncatedSVD(n_components=100, random_state=42)),\n",
        "    ('clf', LogisticRegression(max_iter=1000))\n",
        "])\n",
        "\n",
        "\n",
        "param_grid_logreg_svd = {\n",
        "    'tfidf__max_features': [4000, 5000],\n",
        "    'tfidf__ngram_range': [(1, 1), (1, 2)],\n",
        "    'svd__n_components': [100, 150],\n",
        "    'clf__C': [0.1, 1, 10],\n",
        "    'clf__penalty': ['l2'],\n",
        "    'clf__solver': ['liblinear']\n",
        "}\n",
        "\n",
        "param_grid_logreg = {\n",
        "    'tfidf__max_features': [4000, 5000],\n",
        "    'tfidf__ngram_range': [(1, 1), (1, 2)],\n",
        "    'chi2__k': [300, 500],  # Only if using chi2\n",
        "    'clf__C': [0.1, 1, 10],\n",
        "    'clf__penalty': ['l2'],\n",
        "    'clf__solver': ['liblinear']  # or 'saga' if using elasticnet\n",
        "}"
      ],
      "metadata": {
        "id": "GtG0bZ36t632"
      },
      "execution_count": 29,
      "outputs": []
    },
    {
      "cell_type": "code",
      "source": [
        "best_model_logreg_chi2 = run_grid_search_and_evaluate(pipeline,param_grid_logreg,X_train, y_train, X_test, y_test,\n",
        "    target_names=target_names)"
      ],
      "metadata": {
        "colab": {
          "base_uri": "https://localhost:8080/"
        },
        "id": "xStOEW2YyPgP",
        "outputId": "3cf06c4b-d0bc-4f71-a10d-63966eeb4ad9"
      },
      "execution_count": 30,
      "outputs": [
        {
          "output_type": "stream",
          "name": "stdout",
          "text": [
            "Starting GridSearchCV...\n"
          ]
        },
        {
          "output_type": "stream",
          "name": "stderr",
          "text": [
            "/usr/local/lib/python3.11/dist-packages/sklearn/model_selection/_search.py:1108: UserWarning: One or more of the test scores are non-finite: [nan nan nan nan nan nan nan nan nan nan nan nan nan nan nan nan nan nan\n",
            " nan nan nan nan nan nan]\n",
            "  warnings.warn(\n"
          ]
        },
        {
          "output_type": "stream",
          "name": "stdout",
          "text": [
            "\n",
            "GridSearch training took 530.47 seconds\n",
            "\n",
            "Best parameters:\n",
            "chi2__k: 300\n",
            "clf__C: 0.1\n",
            "clf__penalty: l2\n",
            "clf__solver: liblinear\n",
            "tfidf__max_features: 4000\n",
            "tfidf__ngram_range: (1, 1)\n",
            "Best CV F1 Score (macro): nan\n",
            "\n",
            "Test Set Evaluation:\n",
            "Accuracy: 0.8150\n",
            "F1 Score (macro): 0.6728\n",
            "Classification Report:\n",
            "              precision    recall  f1-score   support\n",
            "\n",
            "    negative       0.81      0.71      0.76      4727\n",
            "     neutral       0.83      0.24      0.38      2487\n",
            "    positive       0.82      0.96      0.88     12786\n",
            "\n",
            "    accuracy                           0.81     20000\n",
            "   macro avg       0.82      0.64      0.67     20000\n",
            "weighted avg       0.82      0.81      0.79     20000\n",
            "\n",
            "Confusion Matrix:\n",
            "[[ 3368    36  1323]\n",
            " [  421   606  1460]\n",
            " [  369    91 12326]]\n",
            "\n",
            "Cross-validation (5 folds) on training data:\n",
            "Mean CV F1 Score: 0.6667 (+/- 0.0046)\n"
          ]
        }
      ]
    },
    {
      "cell_type": "code",
      "source": [
        "joblib.dump(best_model_logreg_chi2, '/content/drive/MyDrive/sentiment_project/logreg_model_pipeline_chi2_default.joblib')"
      ],
      "metadata": {
        "colab": {
          "base_uri": "https://localhost:8080/"
        },
        "id": "OTigHQ0aycTx",
        "outputId": "226207bd-945c-4c37-dbed-709622dbc55a"
      },
      "execution_count": 31,
      "outputs": [
        {
          "output_type": "execute_result",
          "data": {
            "text/plain": [
              "['/content/drive/MyDrive/sentiment_project/logreg_model_pipeline_chi2_default.joblib']"
            ]
          },
          "metadata": {},
          "execution_count": 31
        }
      ]
    },
    {
      "cell_type": "code",
      "source": [
        "best_model_logreg_chi2 = run_grid_search_and_evaluate(\n",
        "    pipeline__logreg_chi2,\n",
        "    param_grid_logreg,\n",
        "    X_train, y_train, X_test, y_test,\n",
        "    target_names=target_names\n",
        ")"
      ],
      "metadata": {
        "colab": {
          "base_uri": "https://localhost:8080/"
        },
        "id": "eaGzTwRqt66V",
        "outputId": "3c4e6bc3-f384-42c5-8818-a55e09755b1e"
      },
      "execution_count": 32,
      "outputs": [
        {
          "output_type": "stream",
          "name": "stdout",
          "text": [
            "Starting GridSearchCV...\n"
          ]
        },
        {
          "output_type": "stream",
          "name": "stderr",
          "text": [
            "/usr/local/lib/python3.11/dist-packages/sklearn/model_selection/_search.py:1108: UserWarning: One or more of the test scores are non-finite: [nan nan nan nan nan nan nan nan nan nan nan nan nan nan nan nan nan nan\n",
            " nan nan nan nan nan nan]\n",
            "  warnings.warn(\n"
          ]
        },
        {
          "output_type": "stream",
          "name": "stdout",
          "text": [
            "\n",
            "GridSearch training took 520.66 seconds\n",
            "\n",
            "Best parameters:\n",
            "chi2__k: 300\n",
            "clf__C: 0.1\n",
            "clf__penalty: l2\n",
            "clf__solver: liblinear\n",
            "tfidf__max_features: 4000\n",
            "tfidf__ngram_range: (1, 1)\n",
            "Best CV F1 Score (macro): nan\n",
            "\n",
            "Test Set Evaluation:\n",
            "Accuracy: 0.8150\n",
            "F1 Score (macro): 0.6728\n",
            "Classification Report:\n",
            "              precision    recall  f1-score   support\n",
            "\n",
            "    negative       0.81      0.71      0.76      4727\n",
            "     neutral       0.83      0.24      0.38      2487\n",
            "    positive       0.82      0.96      0.88     12786\n",
            "\n",
            "    accuracy                           0.81     20000\n",
            "   macro avg       0.82      0.64      0.67     20000\n",
            "weighted avg       0.82      0.81      0.79     20000\n",
            "\n",
            "Confusion Matrix:\n",
            "[[ 3368    36  1323]\n",
            " [  421   606  1460]\n",
            " [  369    91 12326]]\n",
            "\n",
            "Cross-validation (5 folds) on training data:\n",
            "Mean CV F1 Score: 0.6667 (+/- 0.0046)\n"
          ]
        }
      ]
    },
    {
      "cell_type": "code",
      "source": [
        "joblib.dump(best_model_logreg_chi2, '/content/drive/MyDrive/sentiment_project/logreg_model_pipeline_chi2_300.joblib')"
      ],
      "metadata": {
        "colab": {
          "base_uri": "https://localhost:8080/"
        },
        "id": "TrwH-fnJt695",
        "outputId": "ccb26e35-5846-451a-a500-ebf704cfb51a"
      },
      "execution_count": 33,
      "outputs": [
        {
          "output_type": "execute_result",
          "data": {
            "text/plain": [
              "['/content/drive/MyDrive/sentiment_project/logreg_model_pipeline_chi2_300.joblib']"
            ]
          },
          "metadata": {},
          "execution_count": 33
        }
      ]
    },
    {
      "cell_type": "code",
      "source": [
        "best_model_logreg_svd = run_grid_search_and_evaluate(\n",
        "    pipeline_logreg_svd,\n",
        "    param_grid_logreg_svd,\n",
        "    X_train, y_train, X_test, y_test,\n",
        "    target_names=target_names\n",
        ")"
      ],
      "metadata": {
        "colab": {
          "base_uri": "https://localhost:8080/"
        },
        "id": "IsvCNDT_yqjE",
        "outputId": "38125691-8c31-434e-b002-160572d262a4"
      },
      "execution_count": 34,
      "outputs": [
        {
          "output_type": "stream",
          "name": "stdout",
          "text": [
            "Starting GridSearchCV...\n"
          ]
        },
        {
          "output_type": "stream",
          "name": "stderr",
          "text": [
            "/usr/local/lib/python3.11/dist-packages/sklearn/model_selection/_search.py:1108: UserWarning: One or more of the test scores are non-finite: [nan nan nan nan nan nan nan nan nan nan nan nan nan nan nan nan nan nan\n",
            " nan nan nan nan nan nan]\n",
            "  warnings.warn(\n"
          ]
        },
        {
          "output_type": "stream",
          "name": "stdout",
          "text": [
            "\n",
            "GridSearch training took 1671.14 seconds\n",
            "\n",
            "Best parameters:\n",
            "clf__C: 0.1\n",
            "clf__penalty: l2\n",
            "clf__solver: liblinear\n",
            "svd__n_components: 100\n",
            "tfidf__max_features: 4000\n",
            "tfidf__ngram_range: (1, 1)\n",
            "Best CV F1 Score (macro): nan\n",
            "\n",
            "Test Set Evaluation:\n",
            "Accuracy: 0.7996\n",
            "F1 Score (macro): 0.6546\n",
            "Classification Report:\n",
            "              precision    recall  f1-score   support\n",
            "\n",
            "    negative       0.78      0.67      0.72      4727\n",
            "     neutral       0.82      0.24      0.37      2487\n",
            "    positive       0.80      0.96      0.87     12786\n",
            "\n",
            "    accuracy                           0.80     20000\n",
            "   macro avg       0.80      0.62      0.65     20000\n",
            "weighted avg       0.80      0.80      0.77     20000\n",
            "\n",
            "Confusion Matrix:\n",
            "[[ 3178    38  1511]\n",
            " [  419   589  1479]\n",
            " [  470    90 12226]]\n",
            "\n",
            "Cross-validation (5 folds) on training data:\n",
            "Mean CV F1 Score: 0.6460 (+/- 0.0043)\n"
          ]
        }
      ]
    },
    {
      "cell_type": "code",
      "source": [
        "joblib.dump(best_model_logreg_svd, '/content/drive/MyDrive/sentiment_project/logreg_model_pipeline_svd.joblib')"
      ],
      "metadata": {
        "colab": {
          "base_uri": "https://localhost:8080/"
        },
        "id": "FTgv0kPKyqnL",
        "outputId": "86c6198f-10cc-43d6-85c8-2a06c8f21032"
      },
      "execution_count": 35,
      "outputs": [
        {
          "output_type": "execute_result",
          "data": {
            "text/plain": [
              "['/content/drive/MyDrive/sentiment_project/logreg_model_pipeline_svd.joblib']"
            ]
          },
          "metadata": {},
          "execution_count": 35
        }
      ]
    },
    {
      "cell_type": "code",
      "source": [
        "pipeline_nb_chi2 = Pipeline([\n",
        "    ('tfidf', TfidfVectorizer(stop_words='english')),\n",
        "    ('chi2', SelectKBest(score_func=chi2)),\n",
        "    ('clf', MultinomialNB())\n",
        "])\n",
        "param_grid_nb_chi2 = {\n",
        "    'tfidf__max_features': [4000, 5000],\n",
        "    'tfidf__ngram_range': [(1, 1), (1, 2)],\n",
        "    'chi2__k': [300, 500],\n",
        "    'clf__alpha': [0.1, 1.0, 10.0]\n",
        "}"
      ],
      "metadata": {
        "id": "UEoA2ADCr_Qi"
      },
      "execution_count": 36,
      "outputs": []
    },
    {
      "cell_type": "code",
      "source": [
        "best_model_nb_chi2 = run_grid_search_and_evaluate(pipeline_nb_chi2, param_grid_nb_chi2, X_train, y_train, X_test, y_test, target_names=target_names)"
      ],
      "metadata": {
        "colab": {
          "base_uri": "https://localhost:8080/"
        },
        "id": "ibzEu9uC_LBH",
        "outputId": "ef0fb374-7470-4453-fcd9-8796f96f1f8d"
      },
      "execution_count": 37,
      "outputs": [
        {
          "output_type": "stream",
          "name": "stdout",
          "text": [
            "Starting GridSearchCV...\n"
          ]
        },
        {
          "output_type": "stream",
          "name": "stderr",
          "text": [
            "/usr/local/lib/python3.11/dist-packages/sklearn/model_selection/_search.py:1108: UserWarning: One or more of the test scores are non-finite: [nan nan nan nan nan nan nan nan nan nan nan nan nan nan nan nan nan nan\n",
            " nan nan nan nan nan nan]\n",
            "  warnings.warn(\n"
          ]
        },
        {
          "output_type": "stream",
          "name": "stdout",
          "text": [
            "\n",
            "GridSearch training took 463.98 seconds\n",
            "\n",
            "Best parameters:\n",
            "chi2__k: 300\n",
            "clf__alpha: 0.1\n",
            "tfidf__max_features: 4000\n",
            "tfidf__ngram_range: (1, 1)\n",
            "Best CV F1 Score (macro): nan\n",
            "\n",
            "Test Set Evaluation:\n",
            "Accuracy: 0.7957\n",
            "F1 Score (macro): 0.6320\n",
            "Classification Report:\n",
            "              precision    recall  f1-score   support\n",
            "\n",
            "    negative       0.85      0.62      0.72      4727\n",
            "     neutral       0.82      0.19      0.31      2487\n",
            "    positive       0.78      0.98      0.87     12786\n",
            "\n",
            "    accuracy                           0.80     20000\n",
            "   macro avg       0.82      0.60      0.63     20000\n",
            "weighted avg       0.80      0.80      0.76     20000\n",
            "\n",
            "Confusion Matrix:\n",
            "[[ 2944    31  1752]\n",
            " [  299   470  1718]\n",
            " [  210    75 12501]]\n",
            "\n",
            "Cross-validation (5 folds) on training data:\n",
            "Mean CV F1 Score: 0.6349 (+/- 0.0056)\n"
          ]
        }
      ]
    },
    {
      "cell_type": "code",
      "source": [
        "joblib.dump(best_model_nb_chi2, '/content/drive/MyDrive/sentiment_project/nb_model_pipeline_chi2_default.joblib')"
      ],
      "metadata": {
        "colab": {
          "base_uri": "https://localhost:8080/"
        },
        "id": "YOnYI4qB_dOF",
        "outputId": "4d0fb7de-e54e-4afc-e06f-e6b04693ada7"
      },
      "execution_count": 38,
      "outputs": [
        {
          "output_type": "execute_result",
          "data": {
            "text/plain": [
              "['/content/drive/MyDrive/sentiment_project/nb_model_pipeline_chi2_default.joblib']"
            ]
          },
          "metadata": {},
          "execution_count": 38
        }
      ]
    },
    {
      "cell_type": "code",
      "source": [
        "pipeline_nb_chi22 = Pipeline([\n",
        "    ('tfidf', TfidfVectorizer(stop_words='english')),\n",
        "    ('chi2', SelectKBest(score_func=chi2, k=300)),\n",
        "    ('clf', MultinomialNB())\n",
        "])"
      ],
      "metadata": {
        "id": "7H3FOY9jBeVE"
      },
      "execution_count": 42,
      "outputs": []
    },
    {
      "cell_type": "code",
      "source": [
        "best_model_nb_chi22 = run_grid_search_and_evaluate(pipeline_nb_chi22, param_grid_nb_chi2, X_train, y_train, X_test, y_test, target_names=target_names)"
      ],
      "metadata": {
        "colab": {
          "base_uri": "https://localhost:8080/"
        },
        "id": "5120ky6ZBeX_",
        "outputId": "58174152-13f7-4bd2-9696-81230589fefb"
      },
      "execution_count": 43,
      "outputs": [
        {
          "output_type": "stream",
          "name": "stdout",
          "text": [
            "Starting GridSearchCV...\n"
          ]
        },
        {
          "output_type": "stream",
          "name": "stderr",
          "text": [
            "/usr/local/lib/python3.11/dist-packages/sklearn/model_selection/_search.py:1108: UserWarning: One or more of the test scores are non-finite: [nan nan nan nan nan nan nan nan nan nan nan nan nan nan nan nan nan nan\n",
            " nan nan nan nan nan nan]\n",
            "  warnings.warn(\n"
          ]
        },
        {
          "output_type": "stream",
          "name": "stdout",
          "text": [
            "\n",
            "GridSearch training took 462.63 seconds\n",
            "\n",
            "Best parameters:\n",
            "chi2__k: 300\n",
            "clf__alpha: 0.1\n",
            "tfidf__max_features: 4000\n",
            "tfidf__ngram_range: (1, 1)\n",
            "Best CV F1 Score (macro): nan\n",
            "\n",
            "Test Set Evaluation:\n",
            "Accuracy: 0.7957\n",
            "F1 Score (macro): 0.6320\n",
            "Classification Report:\n",
            "              precision    recall  f1-score   support\n",
            "\n",
            "    negative       0.85      0.62      0.72      4727\n",
            "     neutral       0.82      0.19      0.31      2487\n",
            "    positive       0.78      0.98      0.87     12786\n",
            "\n",
            "    accuracy                           0.80     20000\n",
            "   macro avg       0.82      0.60      0.63     20000\n",
            "weighted avg       0.80      0.80      0.76     20000\n",
            "\n",
            "Confusion Matrix:\n",
            "[[ 2944    31  1752]\n",
            " [  299   470  1718]\n",
            " [  210    75 12501]]\n",
            "\n",
            "Cross-validation (5 folds) on training data:\n",
            "Mean CV F1 Score: 0.6349 (+/- 0.0056)\n"
          ]
        }
      ]
    },
    {
      "cell_type": "code",
      "source": [
        "joblib.dump(best_model_nb_chi22, '/content/drive/MyDrive/sentiment_project/nb_model_pipeline_chi2.joblib')"
      ],
      "metadata": {
        "colab": {
          "base_uri": "https://localhost:8080/"
        },
        "id": "HDwtI0McBebb",
        "outputId": "53c82c9b-7cc2-453c-8b9f-be6f52798326"
      },
      "execution_count": 44,
      "outputs": [
        {
          "output_type": "execute_result",
          "data": {
            "text/plain": [
              "['/content/drive/MyDrive/sentiment_project/nb_model_pipeline_chi2.joblib']"
            ]
          },
          "metadata": {},
          "execution_count": 44
        }
      ]
    },
    {
      "cell_type": "code",
      "source": [
        "import numpy as np\n",
        "unique, counts = np.unique(y_train, return_counts=True)\n",
        "print(dict(zip(unique, counts)))"
      ],
      "metadata": {
        "colab": {
          "base_uri": "https://localhost:8080/"
        },
        "id": "vX71lZ0oIS3n",
        "outputId": "51d5099a-bdce-443a-c780-9caaa6485c91"
      },
      "execution_count": 46,
      "outputs": [
        {
          "output_type": "stream",
          "name": "stdout",
          "text": [
            "{'negative': np.int64(18908), 'neutral': np.int64(9946), 'positive': np.int64(51146)}\n"
          ]
        }
      ]
    },
    {
      "cell_type": "code",
      "source": [],
      "metadata": {
        "id": "2a8QwbMhIVV0"
      },
      "execution_count": null,
      "outputs": []
    }
  ],
  "metadata": {
    "colab": {
      "provenance": []
    },
    "kernelspec": {
      "display_name": "Python 3 (ipykernel)",
      "language": "python",
      "name": "python3"
    },
    "language_info": {
      "codemirror_mode": {
        "name": "ipython",
        "version": 3
      },
      "file_extension": ".py",
      "mimetype": "text/x-python",
      "name": "python",
      "nbconvert_exporter": "python",
      "pygments_lexer": "ipython3",
      "version": "3.10.17"
    }
  },
  "nbformat": 4,
  "nbformat_minor": 0
}