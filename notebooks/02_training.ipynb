{
 "cells": [
  {
   "cell_type": "code",
   "execution_count": null,
   "id": "60b6e147",
   "metadata": {
    "vscode": {
     "languageId": "plaintext"
    }
   },
   "outputs": [],
   "source": [
    "from google.colab import drive\n",
    "drive.mount('/content/drive')"
   ]
  },
  {
   "cell_type": "code",
   "execution_count": null,
   "id": "98889635",
   "metadata": {
    "vscode": {
     "languageId": "plaintext"
    }
   },
   "outputs": [],
   "source": [
    "df = pd.read_csv('/content/drive/MyDrive/sentiment_project/processed_reviews.csv')"
   ]
  },
  {
   "cell_type": "code",
   "execution_count": null,
   "id": "870a84bb",
   "metadata": {
    "vscode": {
     "languageId": "plaintext"
    }
   },
   "outputs": [],
   "source": [
    "# At the end\n",
    "import joblib\n",
    "joblib.dump(svm_model, '/content/drive/MyDrive/sentiment_project/svm_model.pkl')\n",
    "joblib.dump(random_forest_model, '/content/drive/MyDrive/sentiment_project/rf_model.pkl')"
   ]
  }
 ],
 "metadata": {
  "language_info": {
   "name": "python"
  }
 },
 "nbformat": 4,
 "nbformat_minor": 5
}
